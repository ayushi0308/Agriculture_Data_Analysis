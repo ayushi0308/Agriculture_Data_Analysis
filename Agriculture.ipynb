{
 "cells": [
  {
   "cell_type": "code",
   "execution_count": 1,
   "id": "4b930ef0",
   "metadata": {},
   "outputs": [],
   "source": [
    "import pandas as pd"
   ]
  },
  {
   "cell_type": "code",
   "execution_count": 2,
   "id": "41039d26",
   "metadata": {},
   "outputs": [
    {
     "data": {
      "text/html": [
       "<div>\n",
       "<style scoped>\n",
       "    .dataframe tbody tr th:only-of-type {\n",
       "        vertical-align: middle;\n",
       "    }\n",
       "\n",
       "    .dataframe tbody tr th {\n",
       "        vertical-align: top;\n",
       "    }\n",
       "\n",
       "    .dataframe thead th {\n",
       "        text-align: right;\n",
       "    }\n",
       "</style>\n",
       "<table border=\"1\" class=\"dataframe\">\n",
       "  <thead>\n",
       "    <tr style=\"text-align: right;\">\n",
       "      <th></th>\n",
       "      <th>commodity_name</th>\n",
       "      <th>state</th>\n",
       "      <th>district</th>\n",
       "      <th>market</th>\n",
       "      <th>min_price</th>\n",
       "      <th>max_price</th>\n",
       "      <th>modal_price</th>\n",
       "      <th>date</th>\n",
       "      <th>certifications</th>\n",
       "      <th>storage type</th>\n",
       "      <th>export_potential</th>\n",
       "      <th>production_quantity</th>\n",
       "      <th>quality_grade</th>\n",
       "    </tr>\n",
       "  </thead>\n",
       "  <tbody>\n",
       "    <tr>\n",
       "      <th>0</th>\n",
       "      <td>Ajwan</td>\n",
       "      <td>Gujarat</td>\n",
       "      <td>Amreli</td>\n",
       "      <td>Amreli</td>\n",
       "      <td>63.25</td>\n",
       "      <td>79.55</td>\n",
       "      <td>79.55</td>\n",
       "      <td>22-05-2019</td>\n",
       "      <td>CERTIFIED</td>\n",
       "      <td>Dry Storage</td>\n",
       "      <td>Moderate</td>\n",
       "      <td>78268.0</td>\n",
       "      <td>Grade A</td>\n",
       "    </tr>\n",
       "    <tr>\n",
       "      <th>1</th>\n",
       "      <td>Ajwan</td>\n",
       "      <td>Gujarat</td>\n",
       "      <td>Banaskanth</td>\n",
       "      <td>Dhanera</td>\n",
       "      <td>80.05</td>\n",
       "      <td>80.05</td>\n",
       "      <td>80.05</td>\n",
       "      <td>22-05-2019</td>\n",
       "      <td>CERTIFIED</td>\n",
       "      <td>Dry Storage</td>\n",
       "      <td>Moderate</td>\n",
       "      <td>78268.0</td>\n",
       "      <td>Grade A</td>\n",
       "    </tr>\n",
       "    <tr>\n",
       "      <th>2</th>\n",
       "      <td>Ajwan</td>\n",
       "      <td>Gujarat</td>\n",
       "      <td>Jamnagar</td>\n",
       "      <td>Jamnagar</td>\n",
       "      <td>90.00</td>\n",
       "      <td>155.00</td>\n",
       "      <td>122.50</td>\n",
       "      <td>22-05-2019</td>\n",
       "      <td>NON-GMO</td>\n",
       "      <td>Dry Storage</td>\n",
       "      <td>Moderate</td>\n",
       "      <td>78268.0</td>\n",
       "      <td>Grade A</td>\n",
       "    </tr>\n",
       "    <tr>\n",
       "      <th>3</th>\n",
       "      <td>Ajwan</td>\n",
       "      <td>Gujarat</td>\n",
       "      <td>Mehsana</td>\n",
       "      <td>Kadi</td>\n",
       "      <td>94.50</td>\n",
       "      <td>112.50</td>\n",
       "      <td>107.00</td>\n",
       "      <td>22-05-2019</td>\n",
       "      <td>CERTIFIED</td>\n",
       "      <td>Dry Storage</td>\n",
       "      <td>Moderate</td>\n",
       "      <td>78268.0</td>\n",
       "      <td>Grade A</td>\n",
       "    </tr>\n",
       "    <tr>\n",
       "      <th>4</th>\n",
       "      <td>Ajwan</td>\n",
       "      <td>Gujarat</td>\n",
       "      <td>Mehsana</td>\n",
       "      <td>Unjha</td>\n",
       "      <td>21.25</td>\n",
       "      <td>148.50</td>\n",
       "      <td>99.75</td>\n",
       "      <td>22-05-2019</td>\n",
       "      <td>CERTIFIED</td>\n",
       "      <td>Dry Storage</td>\n",
       "      <td>Moderate</td>\n",
       "      <td>78268.0</td>\n",
       "      <td>Grade A</td>\n",
       "    </tr>\n",
       "    <tr>\n",
       "      <th>...</th>\n",
       "      <td>...</td>\n",
       "      <td>...</td>\n",
       "      <td>...</td>\n",
       "      <td>...</td>\n",
       "      <td>...</td>\n",
       "      <td>...</td>\n",
       "      <td>...</td>\n",
       "      <td>...</td>\n",
       "      <td>...</td>\n",
       "      <td>...</td>\n",
       "      <td>...</td>\n",
       "      <td>...</td>\n",
       "      <td>...</td>\n",
       "    </tr>\n",
       "    <tr>\n",
       "      <th>4751</th>\n",
       "      <td>NaN</td>\n",
       "      <td>NaN</td>\n",
       "      <td>NaN</td>\n",
       "      <td>NaN</td>\n",
       "      <td>NaN</td>\n",
       "      <td>NaN</td>\n",
       "      <td>NaN</td>\n",
       "      <td>NaN</td>\n",
       "      <td>NaN</td>\n",
       "      <td>NaN</td>\n",
       "      <td>NaN</td>\n",
       "      <td>NaN</td>\n",
       "      <td>NaN</td>\n",
       "    </tr>\n",
       "    <tr>\n",
       "      <th>4752</th>\n",
       "      <td>NaN</td>\n",
       "      <td>NaN</td>\n",
       "      <td>NaN</td>\n",
       "      <td>NaN</td>\n",
       "      <td>NaN</td>\n",
       "      <td>NaN</td>\n",
       "      <td>NaN</td>\n",
       "      <td>NaN</td>\n",
       "      <td>NaN</td>\n",
       "      <td>NaN</td>\n",
       "      <td>NaN</td>\n",
       "      <td>NaN</td>\n",
       "      <td>NaN</td>\n",
       "    </tr>\n",
       "    <tr>\n",
       "      <th>4753</th>\n",
       "      <td>NaN</td>\n",
       "      <td>NaN</td>\n",
       "      <td>NaN</td>\n",
       "      <td>NaN</td>\n",
       "      <td>NaN</td>\n",
       "      <td>NaN</td>\n",
       "      <td>NaN</td>\n",
       "      <td>NaN</td>\n",
       "      <td>NaN</td>\n",
       "      <td>NaN</td>\n",
       "      <td>NaN</td>\n",
       "      <td>NaN</td>\n",
       "      <td>NaN</td>\n",
       "    </tr>\n",
       "    <tr>\n",
       "      <th>4754</th>\n",
       "      <td>NaN</td>\n",
       "      <td>NaN</td>\n",
       "      <td>NaN</td>\n",
       "      <td>NaN</td>\n",
       "      <td>NaN</td>\n",
       "      <td>NaN</td>\n",
       "      <td>NaN</td>\n",
       "      <td>NaN</td>\n",
       "      <td>NaN</td>\n",
       "      <td>NaN</td>\n",
       "      <td>NaN</td>\n",
       "      <td>NaN</td>\n",
       "      <td>NaN</td>\n",
       "    </tr>\n",
       "    <tr>\n",
       "      <th>4755</th>\n",
       "      <td>NaN</td>\n",
       "      <td>NaN</td>\n",
       "      <td>NaN</td>\n",
       "      <td>NaN</td>\n",
       "      <td>NaN</td>\n",
       "      <td>NaN</td>\n",
       "      <td>NaN</td>\n",
       "      <td>NaN</td>\n",
       "      <td>NaN</td>\n",
       "      <td>NaN</td>\n",
       "      <td>NaN</td>\n",
       "      <td>NaN</td>\n",
       "      <td>NaN</td>\n",
       "    </tr>\n",
       "  </tbody>\n",
       "</table>\n",
       "<p>4756 rows × 13 columns</p>\n",
       "</div>"
      ],
      "text/plain": [
       "     commodity_name    state    district    market  min_price  max_price  \\\n",
       "0             Ajwan  Gujarat      Amreli    Amreli      63.25      79.55   \n",
       "1             Ajwan  Gujarat  Banaskanth   Dhanera      80.05      80.05   \n",
       "2             Ajwan  Gujarat    Jamnagar  Jamnagar      90.00     155.00   \n",
       "3             Ajwan  Gujarat     Mehsana      Kadi      94.50     112.50   \n",
       "4             Ajwan  Gujarat     Mehsana     Unjha      21.25     148.50   \n",
       "...             ...      ...         ...       ...        ...        ...   \n",
       "4751            NaN      NaN         NaN       NaN        NaN        NaN   \n",
       "4752            NaN      NaN         NaN       NaN        NaN        NaN   \n",
       "4753            NaN      NaN         NaN       NaN        NaN        NaN   \n",
       "4754            NaN      NaN         NaN       NaN        NaN        NaN   \n",
       "4755            NaN      NaN         NaN       NaN        NaN        NaN   \n",
       "\n",
       "      modal_price        date certifications storage type export_potential  \\\n",
       "0           79.55  22-05-2019      CERTIFIED  Dry Storage         Moderate   \n",
       "1           80.05  22-05-2019      CERTIFIED  Dry Storage         Moderate   \n",
       "2          122.50  22-05-2019        NON-GMO  Dry Storage         Moderate   \n",
       "3          107.00  22-05-2019      CERTIFIED  Dry Storage         Moderate   \n",
       "4           99.75  22-05-2019      CERTIFIED  Dry Storage         Moderate   \n",
       "...           ...         ...            ...          ...              ...   \n",
       "4751          NaN         NaN            NaN          NaN              NaN   \n",
       "4752          NaN         NaN            NaN          NaN              NaN   \n",
       "4753          NaN         NaN            NaN          NaN              NaN   \n",
       "4754          NaN         NaN            NaN          NaN              NaN   \n",
       "4755          NaN         NaN            NaN          NaN              NaN   \n",
       "\n",
       "      production_quantity quality_grade  \n",
       "0                 78268.0       Grade A  \n",
       "1                 78268.0       Grade A  \n",
       "2                 78268.0       Grade A  \n",
       "3                 78268.0       Grade A  \n",
       "4                 78268.0       Grade A  \n",
       "...                   ...           ...  \n",
       "4751                  NaN           NaN  \n",
       "4752                  NaN           NaN  \n",
       "4753                  NaN           NaN  \n",
       "4754                  NaN           NaN  \n",
       "4755                  NaN           NaN  \n",
       "\n",
       "[4756 rows x 13 columns]"
      ]
     },
     "execution_count": 2,
     "metadata": {},
     "output_type": "execute_result"
    }
   ],
   "source": [
    "import pandas as pd\n",
    "df = pd.read_csv(\"agridatanew.csv\")\n",
    "df"
   ]
  },
  {
   "cell_type": "code",
   "execution_count": 5,
   "id": "fd43d1ad",
   "metadata": {},
   "outputs": [
    {
     "data": {
      "text/html": [
       "<div>\n",
       "<style scoped>\n",
       "    .dataframe tbody tr th:only-of-type {\n",
       "        vertical-align: middle;\n",
       "    }\n",
       "\n",
       "    .dataframe tbody tr th {\n",
       "        vertical-align: top;\n",
       "    }\n",
       "\n",
       "    .dataframe thead th {\n",
       "        text-align: right;\n",
       "    }\n",
       "</style>\n",
       "<table border=\"1\" class=\"dataframe\">\n",
       "  <thead>\n",
       "    <tr style=\"text-align: right;\">\n",
       "      <th></th>\n",
       "      <th>commodity_name</th>\n",
       "      <th>state</th>\n",
       "      <th>district</th>\n",
       "      <th>market</th>\n",
       "      <th>min_price</th>\n",
       "      <th>max_price</th>\n",
       "      <th>modal_price</th>\n",
       "      <th>date</th>\n",
       "      <th>certifications</th>\n",
       "      <th>storage type</th>\n",
       "      <th>export_potential</th>\n",
       "      <th>production_quantity</th>\n",
       "      <th>quality_grade</th>\n",
       "    </tr>\n",
       "  </thead>\n",
       "  <tbody>\n",
       "    <tr>\n",
       "      <th>0</th>\n",
       "      <td>Ajwan</td>\n",
       "      <td>Gujarat</td>\n",
       "      <td>Amreli</td>\n",
       "      <td>Amreli</td>\n",
       "      <td>63.25</td>\n",
       "      <td>79.55</td>\n",
       "      <td>79.55</td>\n",
       "      <td>22-05-2019</td>\n",
       "      <td>CERTIFIED</td>\n",
       "      <td>Dry Storage</td>\n",
       "      <td>Moderate</td>\n",
       "      <td>78268.0</td>\n",
       "      <td>Grade A</td>\n",
       "    </tr>\n",
       "    <tr>\n",
       "      <th>1</th>\n",
       "      <td>Ajwan</td>\n",
       "      <td>Gujarat</td>\n",
       "      <td>Banaskanth</td>\n",
       "      <td>Dhanera</td>\n",
       "      <td>80.05</td>\n",
       "      <td>80.05</td>\n",
       "      <td>80.05</td>\n",
       "      <td>22-05-2019</td>\n",
       "      <td>CERTIFIED</td>\n",
       "      <td>Dry Storage</td>\n",
       "      <td>Moderate</td>\n",
       "      <td>78268.0</td>\n",
       "      <td>Grade A</td>\n",
       "    </tr>\n",
       "    <tr>\n",
       "      <th>2</th>\n",
       "      <td>Ajwan</td>\n",
       "      <td>Gujarat</td>\n",
       "      <td>Jamnagar</td>\n",
       "      <td>Jamnagar</td>\n",
       "      <td>90.00</td>\n",
       "      <td>155.00</td>\n",
       "      <td>122.50</td>\n",
       "      <td>22-05-2019</td>\n",
       "      <td>NON-GMO</td>\n",
       "      <td>Dry Storage</td>\n",
       "      <td>Moderate</td>\n",
       "      <td>78268.0</td>\n",
       "      <td>Grade A</td>\n",
       "    </tr>\n",
       "    <tr>\n",
       "      <th>3</th>\n",
       "      <td>Ajwan</td>\n",
       "      <td>Gujarat</td>\n",
       "      <td>Mehsana</td>\n",
       "      <td>Kadi</td>\n",
       "      <td>94.50</td>\n",
       "      <td>112.50</td>\n",
       "      <td>107.00</td>\n",
       "      <td>22-05-2019</td>\n",
       "      <td>CERTIFIED</td>\n",
       "      <td>Dry Storage</td>\n",
       "      <td>Moderate</td>\n",
       "      <td>78268.0</td>\n",
       "      <td>Grade A</td>\n",
       "    </tr>\n",
       "    <tr>\n",
       "      <th>4</th>\n",
       "      <td>Ajwan</td>\n",
       "      <td>Gujarat</td>\n",
       "      <td>Mehsana</td>\n",
       "      <td>Unjha</td>\n",
       "      <td>21.25</td>\n",
       "      <td>148.50</td>\n",
       "      <td>99.75</td>\n",
       "      <td>22-05-2019</td>\n",
       "      <td>CERTIFIED</td>\n",
       "      <td>Dry Storage</td>\n",
       "      <td>Moderate</td>\n",
       "      <td>78268.0</td>\n",
       "      <td>Grade A</td>\n",
       "    </tr>\n",
       "  </tbody>\n",
       "</table>\n",
       "</div>"
      ],
      "text/plain": [
       "  commodity_name    state    district    market  min_price  max_price  \\\n",
       "0          Ajwan  Gujarat      Amreli    Amreli      63.25      79.55   \n",
       "1          Ajwan  Gujarat  Banaskanth   Dhanera      80.05      80.05   \n",
       "2          Ajwan  Gujarat    Jamnagar  Jamnagar      90.00     155.00   \n",
       "3          Ajwan  Gujarat     Mehsana      Kadi      94.50     112.50   \n",
       "4          Ajwan  Gujarat     Mehsana     Unjha      21.25     148.50   \n",
       "\n",
       "   modal_price        date certifications storage type export_potential  \\\n",
       "0        79.55  22-05-2019      CERTIFIED  Dry Storage         Moderate   \n",
       "1        80.05  22-05-2019      CERTIFIED  Dry Storage         Moderate   \n",
       "2       122.50  22-05-2019        NON-GMO  Dry Storage         Moderate   \n",
       "3       107.00  22-05-2019      CERTIFIED  Dry Storage         Moderate   \n",
       "4        99.75  22-05-2019      CERTIFIED  Dry Storage         Moderate   \n",
       "\n",
       "   production_quantity quality_grade  \n",
       "0              78268.0       Grade A  \n",
       "1              78268.0       Grade A  \n",
       "2              78268.0       Grade A  \n",
       "3              78268.0       Grade A  \n",
       "4              78268.0       Grade A  "
      ]
     },
     "execution_count": 5,
     "metadata": {},
     "output_type": "execute_result"
    }
   ],
   "source": [
    "df.head()"
   ]
  },
  {
   "cell_type": "code",
   "execution_count": 7,
   "id": "ea8d7122",
   "metadata": {},
   "outputs": [
    {
     "data": {
      "text/plain": [
       "commodity_name         160\n",
       "state                  160\n",
       "district               160\n",
       "market                 160\n",
       "min_price              161\n",
       "max_price              161\n",
       "modal_price            161\n",
       "date                   161\n",
       "certifications         160\n",
       "storage type           160\n",
       "export_potential       160\n",
       "production_quantity    161\n",
       "quality_grade          161\n",
       "dtype: int64"
      ]
     },
     "execution_count": 7,
     "metadata": {},
     "output_type": "execute_result"
    }
   ],
   "source": [
    "df.isnull().sum()"
   ]
  },
  {
   "cell_type": "code",
   "execution_count": 9,
   "id": "3718a3dc",
   "metadata": {},
   "outputs": [
    {
     "name": "stdout",
     "output_type": "stream",
     "text": [
      "commodity_name         160\n",
      "state                  160\n",
      "district               160\n",
      "market                 160\n",
      "min_price              161\n",
      "max_price              161\n",
      "modal_price            161\n",
      "date                   161\n",
      "certifications         160\n",
      "storage type           160\n",
      "export_potential       160\n",
      "production_quantity    161\n",
      "quality_grade          161\n",
      "dtype: int64\n"
     ]
    }
   ],
   "source": [
    "nan_values = df.isna().sum()\n",
    "\n",
    "# Display the NaN values count\n",
    "print(nan_values)"
   ]
  },
  {
   "cell_type": "code",
   "execution_count": 11,
   "id": "b41380aa",
   "metadata": {},
   "outputs": [
    {
     "data": {
      "text/html": [
       "<div>\n",
       "<style scoped>\n",
       "    .dataframe tbody tr th:only-of-type {\n",
       "        vertical-align: middle;\n",
       "    }\n",
       "\n",
       "    .dataframe tbody tr th {\n",
       "        vertical-align: top;\n",
       "    }\n",
       "\n",
       "    .dataframe thead th {\n",
       "        text-align: right;\n",
       "    }\n",
       "</style>\n",
       "<table border=\"1\" class=\"dataframe\">\n",
       "  <thead>\n",
       "    <tr style=\"text-align: right;\">\n",
       "      <th></th>\n",
       "      <th>commodity_name</th>\n",
       "      <th>state</th>\n",
       "      <th>district</th>\n",
       "      <th>market</th>\n",
       "      <th>min_price</th>\n",
       "      <th>max_price</th>\n",
       "      <th>modal_price</th>\n",
       "      <th>date</th>\n",
       "      <th>certifications</th>\n",
       "      <th>storage type</th>\n",
       "      <th>export_potential</th>\n",
       "      <th>production_quantity</th>\n",
       "      <th>quality_grade</th>\n",
       "    </tr>\n",
       "  </thead>\n",
       "  <tbody>\n",
       "    <tr>\n",
       "      <th>0</th>\n",
       "      <td>Ajwan</td>\n",
       "      <td>Gujarat</td>\n",
       "      <td>Amreli</td>\n",
       "      <td>Amreli</td>\n",
       "      <td>63.25</td>\n",
       "      <td>79.55</td>\n",
       "      <td>79.55</td>\n",
       "      <td>22-05-2019</td>\n",
       "      <td>CERTIFIED</td>\n",
       "      <td>Dry Storage</td>\n",
       "      <td>Moderate</td>\n",
       "      <td>78268.0</td>\n",
       "      <td>Grade A</td>\n",
       "    </tr>\n",
       "    <tr>\n",
       "      <th>1</th>\n",
       "      <td>Ajwan</td>\n",
       "      <td>Gujarat</td>\n",
       "      <td>Banaskanth</td>\n",
       "      <td>Dhanera</td>\n",
       "      <td>80.05</td>\n",
       "      <td>80.05</td>\n",
       "      <td>80.05</td>\n",
       "      <td>22-05-2019</td>\n",
       "      <td>CERTIFIED</td>\n",
       "      <td>Dry Storage</td>\n",
       "      <td>Moderate</td>\n",
       "      <td>78268.0</td>\n",
       "      <td>Grade A</td>\n",
       "    </tr>\n",
       "    <tr>\n",
       "      <th>2</th>\n",
       "      <td>Ajwan</td>\n",
       "      <td>Gujarat</td>\n",
       "      <td>Jamnagar</td>\n",
       "      <td>Jamnagar</td>\n",
       "      <td>90.00</td>\n",
       "      <td>155.00</td>\n",
       "      <td>122.50</td>\n",
       "      <td>22-05-2019</td>\n",
       "      <td>NON-GMO</td>\n",
       "      <td>Dry Storage</td>\n",
       "      <td>Moderate</td>\n",
       "      <td>78268.0</td>\n",
       "      <td>Grade A</td>\n",
       "    </tr>\n",
       "    <tr>\n",
       "      <th>3</th>\n",
       "      <td>Ajwan</td>\n",
       "      <td>Gujarat</td>\n",
       "      <td>Mehsana</td>\n",
       "      <td>Kadi</td>\n",
       "      <td>94.50</td>\n",
       "      <td>112.50</td>\n",
       "      <td>107.00</td>\n",
       "      <td>22-05-2019</td>\n",
       "      <td>CERTIFIED</td>\n",
       "      <td>Dry Storage</td>\n",
       "      <td>Moderate</td>\n",
       "      <td>78268.0</td>\n",
       "      <td>Grade A</td>\n",
       "    </tr>\n",
       "    <tr>\n",
       "      <th>4</th>\n",
       "      <td>Ajwan</td>\n",
       "      <td>Gujarat</td>\n",
       "      <td>Mehsana</td>\n",
       "      <td>Unjha</td>\n",
       "      <td>21.25</td>\n",
       "      <td>148.50</td>\n",
       "      <td>99.75</td>\n",
       "      <td>22-05-2019</td>\n",
       "      <td>CERTIFIED</td>\n",
       "      <td>Dry Storage</td>\n",
       "      <td>Moderate</td>\n",
       "      <td>78268.0</td>\n",
       "      <td>Grade A</td>\n",
       "    </tr>\n",
       "    <tr>\n",
       "      <th>...</th>\n",
       "      <td>...</td>\n",
       "      <td>...</td>\n",
       "      <td>...</td>\n",
       "      <td>...</td>\n",
       "      <td>...</td>\n",
       "      <td>...</td>\n",
       "      <td>...</td>\n",
       "      <td>...</td>\n",
       "      <td>...</td>\n",
       "      <td>...</td>\n",
       "      <td>...</td>\n",
       "      <td>...</td>\n",
       "      <td>...</td>\n",
       "    </tr>\n",
       "    <tr>\n",
       "      <th>4591</th>\n",
       "      <td>Arhar (Tur/Red Gram)(Whole)</td>\n",
       "      <td>Karnataka</td>\n",
       "      <td>Gulbarga</td>\n",
       "      <td>Gulbarga</td>\n",
       "      <td>5600.00</td>\n",
       "      <td>6825.00</td>\n",
       "      <td>6600.00</td>\n",
       "      <td>04-10-2021</td>\n",
       "      <td>NON-GMO</td>\n",
       "      <td>Dry Storage</td>\n",
       "      <td>Low</td>\n",
       "      <td>27089.0</td>\n",
       "      <td>Grade B</td>\n",
       "    </tr>\n",
       "    <tr>\n",
       "      <th>4592</th>\n",
       "      <td>Arhar (Tur/Red Gram)(Whole)</td>\n",
       "      <td>Karnataka</td>\n",
       "      <td>Koppal</td>\n",
       "      <td>Kustagi</td>\n",
       "      <td>6500.00</td>\n",
       "      <td>6500.00</td>\n",
       "      <td>6500.00</td>\n",
       "      <td>04-10-2021</td>\n",
       "      <td>CERTIFIED</td>\n",
       "      <td>Dry Storage</td>\n",
       "      <td>Low</td>\n",
       "      <td>27089.0</td>\n",
       "      <td>Grade B</td>\n",
       "    </tr>\n",
       "    <tr>\n",
       "      <th>4593</th>\n",
       "      <td>Arhar (Tur/Red Gram)(Whole)</td>\n",
       "      <td>Karnataka</td>\n",
       "      <td>Gadag</td>\n",
       "      <td>Laxmeshwar</td>\n",
       "      <td>3090.00</td>\n",
       "      <td>4588.00</td>\n",
       "      <td>3933.00</td>\n",
       "      <td>04-10-2021</td>\n",
       "      <td>GMO</td>\n",
       "      <td>Dry Storage</td>\n",
       "      <td>Low</td>\n",
       "      <td>27089.0</td>\n",
       "      <td>Grade B</td>\n",
       "    </tr>\n",
       "    <tr>\n",
       "      <th>4594</th>\n",
       "      <td>Arhar (Tur/Red Gram)(Whole)</td>\n",
       "      <td>Karnataka</td>\n",
       "      <td>Raichur</td>\n",
       "      <td>Raichur</td>\n",
       "      <td>5135.00</td>\n",
       "      <td>5135.00</td>\n",
       "      <td>5135.00</td>\n",
       "      <td>04-10-2021</td>\n",
       "      <td>CERTIFIED</td>\n",
       "      <td>Dry Storage</td>\n",
       "      <td>Low</td>\n",
       "      <td>27089.0</td>\n",
       "      <td>Grade B</td>\n",
       "    </tr>\n",
       "    <tr>\n",
       "      <th>4595</th>\n",
       "      <td>Arhar (Tur/Red Gram)(Whole)</td>\n",
       "      <td>Karnataka</td>\n",
       "      <td>Raichur</td>\n",
       "      <td>Raichur</td>\n",
       "      <td>6490.00</td>\n",
       "      <td>6490.00</td>\n",
       "      <td>0.00</td>\n",
       "      <td>04-10-2021</td>\n",
       "      <td>NON-GMO</td>\n",
       "      <td>Dry Storage</td>\n",
       "      <td>Low</td>\n",
       "      <td>27089.0</td>\n",
       "      <td>Grade B</td>\n",
       "    </tr>\n",
       "  </tbody>\n",
       "</table>\n",
       "<p>4594 rows × 13 columns</p>\n",
       "</div>"
      ],
      "text/plain": [
       "                   commodity_name      state    district      market  \\\n",
       "0                           Ajwan    Gujarat      Amreli      Amreli   \n",
       "1                           Ajwan    Gujarat  Banaskanth     Dhanera   \n",
       "2                           Ajwan    Gujarat    Jamnagar    Jamnagar   \n",
       "3                           Ajwan    Gujarat     Mehsana        Kadi   \n",
       "4                           Ajwan    Gujarat     Mehsana       Unjha   \n",
       "...                           ...        ...         ...         ...   \n",
       "4591  Arhar (Tur/Red Gram)(Whole)  Karnataka    Gulbarga    Gulbarga   \n",
       "4592  Arhar (Tur/Red Gram)(Whole)  Karnataka      Koppal     Kustagi   \n",
       "4593  Arhar (Tur/Red Gram)(Whole)  Karnataka       Gadag  Laxmeshwar   \n",
       "4594  Arhar (Tur/Red Gram)(Whole)  Karnataka     Raichur     Raichur   \n",
       "4595  Arhar (Tur/Red Gram)(Whole)  Karnataka     Raichur     Raichur   \n",
       "\n",
       "      min_price  max_price  modal_price        date certifications  \\\n",
       "0         63.25      79.55        79.55  22-05-2019      CERTIFIED   \n",
       "1         80.05      80.05        80.05  22-05-2019      CERTIFIED   \n",
       "2         90.00     155.00       122.50  22-05-2019        NON-GMO   \n",
       "3         94.50     112.50       107.00  22-05-2019      CERTIFIED   \n",
       "4         21.25     148.50        99.75  22-05-2019      CERTIFIED   \n",
       "...         ...        ...          ...         ...            ...   \n",
       "4591    5600.00    6825.00      6600.00  04-10-2021        NON-GMO   \n",
       "4592    6500.00    6500.00      6500.00  04-10-2021      CERTIFIED   \n",
       "4593    3090.00    4588.00      3933.00  04-10-2021            GMO   \n",
       "4594    5135.00    5135.00      5135.00  04-10-2021      CERTIFIED   \n",
       "4595    6490.00    6490.00         0.00  04-10-2021        NON-GMO   \n",
       "\n",
       "     storage type export_potential  production_quantity quality_grade  \n",
       "0     Dry Storage         Moderate              78268.0       Grade A  \n",
       "1     Dry Storage         Moderate              78268.0       Grade A  \n",
       "2     Dry Storage         Moderate              78268.0       Grade A  \n",
       "3     Dry Storage         Moderate              78268.0       Grade A  \n",
       "4     Dry Storage         Moderate              78268.0       Grade A  \n",
       "...           ...              ...                  ...           ...  \n",
       "4591  Dry Storage              Low              27089.0       Grade B  \n",
       "4592  Dry Storage              Low              27089.0       Grade B  \n",
       "4593  Dry Storage              Low              27089.0       Grade B  \n",
       "4594  Dry Storage              Low              27089.0       Grade B  \n",
       "4595  Dry Storage              Low              27089.0       Grade B  \n",
       "\n",
       "[4594 rows x 13 columns]"
      ]
     },
     "execution_count": 11,
     "metadata": {},
     "output_type": "execute_result"
    }
   ],
   "source": [
    "#Drop null values in the dataset\n",
    "df.dropna(inplace= True)\n",
    "df"
   ]
  },
  {
   "cell_type": "code",
   "execution_count": 13,
   "id": "ba0db1cc",
   "metadata": {},
   "outputs": [
    {
     "data": {
      "text/plain": [
       "commodity_name         0\n",
       "state                  0\n",
       "district               0\n",
       "market                 0\n",
       "min_price              0\n",
       "max_price              0\n",
       "modal_price            0\n",
       "date                   0\n",
       "certifications         0\n",
       "storage type           0\n",
       "export_potential       0\n",
       "production_quantity    0\n",
       "quality_grade          0\n",
       "dtype: int64"
      ]
     },
     "execution_count": 13,
     "metadata": {},
     "output_type": "execute_result"
    }
   ],
   "source": [
    "df.isnull().sum()"
   ]
  },
  {
   "cell_type": "code",
   "execution_count": 15,
   "id": "cd4169a5",
   "metadata": {},
   "outputs": [
    {
     "data": {
      "text/html": [
       "<div>\n",
       "<style scoped>\n",
       "    .dataframe tbody tr th:only-of-type {\n",
       "        vertical-align: middle;\n",
       "    }\n",
       "\n",
       "    .dataframe tbody tr th {\n",
       "        vertical-align: top;\n",
       "    }\n",
       "\n",
       "    .dataframe thead th {\n",
       "        text-align: right;\n",
       "    }\n",
       "</style>\n",
       "<table border=\"1\" class=\"dataframe\">\n",
       "  <thead>\n",
       "    <tr style=\"text-align: right;\">\n",
       "      <th></th>\n",
       "      <th>commodity_name</th>\n",
       "      <th>state</th>\n",
       "      <th>district</th>\n",
       "      <th>market</th>\n",
       "      <th>min_price</th>\n",
       "      <th>max_price</th>\n",
       "      <th>modal_price</th>\n",
       "      <th>date</th>\n",
       "      <th>certifications</th>\n",
       "      <th>storage type</th>\n",
       "      <th>export_potential</th>\n",
       "      <th>production_quantity</th>\n",
       "      <th>quality_grade</th>\n",
       "    </tr>\n",
       "  </thead>\n",
       "  <tbody>\n",
       "    <tr>\n",
       "      <th>0</th>\n",
       "      <td>Ajwan</td>\n",
       "      <td>Gujarat</td>\n",
       "      <td>Amreli</td>\n",
       "      <td>Amreli</td>\n",
       "      <td>63.25</td>\n",
       "      <td>79.55</td>\n",
       "      <td>79.55</td>\n",
       "      <td>22-05-2019</td>\n",
       "      <td>CERTIFIED</td>\n",
       "      <td>Dry Storage</td>\n",
       "      <td>Moderate</td>\n",
       "      <td>78268.0</td>\n",
       "      <td>Grade A</td>\n",
       "    </tr>\n",
       "    <tr>\n",
       "      <th>1</th>\n",
       "      <td>Ajwan</td>\n",
       "      <td>Gujarat</td>\n",
       "      <td>Banaskanth</td>\n",
       "      <td>Dhanera</td>\n",
       "      <td>80.05</td>\n",
       "      <td>80.05</td>\n",
       "      <td>80.05</td>\n",
       "      <td>22-05-2019</td>\n",
       "      <td>CERTIFIED</td>\n",
       "      <td>Dry Storage</td>\n",
       "      <td>Moderate</td>\n",
       "      <td>78268.0</td>\n",
       "      <td>Grade A</td>\n",
       "    </tr>\n",
       "    <tr>\n",
       "      <th>2</th>\n",
       "      <td>Ajwan</td>\n",
       "      <td>Gujarat</td>\n",
       "      <td>Jamnagar</td>\n",
       "      <td>Jamnagar</td>\n",
       "      <td>90.00</td>\n",
       "      <td>155.00</td>\n",
       "      <td>122.50</td>\n",
       "      <td>22-05-2019</td>\n",
       "      <td>NON-GMO</td>\n",
       "      <td>Dry Storage</td>\n",
       "      <td>Moderate</td>\n",
       "      <td>78268.0</td>\n",
       "      <td>Grade A</td>\n",
       "    </tr>\n",
       "    <tr>\n",
       "      <th>3</th>\n",
       "      <td>Ajwan</td>\n",
       "      <td>Gujarat</td>\n",
       "      <td>Mehsana</td>\n",
       "      <td>Kadi</td>\n",
       "      <td>94.50</td>\n",
       "      <td>112.50</td>\n",
       "      <td>107.00</td>\n",
       "      <td>22-05-2019</td>\n",
       "      <td>CERTIFIED</td>\n",
       "      <td>Dry Storage</td>\n",
       "      <td>Moderate</td>\n",
       "      <td>78268.0</td>\n",
       "      <td>Grade A</td>\n",
       "    </tr>\n",
       "    <tr>\n",
       "      <th>4</th>\n",
       "      <td>Ajwan</td>\n",
       "      <td>Gujarat</td>\n",
       "      <td>Mehsana</td>\n",
       "      <td>Unjha</td>\n",
       "      <td>21.25</td>\n",
       "      <td>148.50</td>\n",
       "      <td>99.75</td>\n",
       "      <td>22-05-2019</td>\n",
       "      <td>CERTIFIED</td>\n",
       "      <td>Dry Storage</td>\n",
       "      <td>Moderate</td>\n",
       "      <td>78268.0</td>\n",
       "      <td>Grade A</td>\n",
       "    </tr>\n",
       "    <tr>\n",
       "      <th>...</th>\n",
       "      <td>...</td>\n",
       "      <td>...</td>\n",
       "      <td>...</td>\n",
       "      <td>...</td>\n",
       "      <td>...</td>\n",
       "      <td>...</td>\n",
       "      <td>...</td>\n",
       "      <td>...</td>\n",
       "      <td>...</td>\n",
       "      <td>...</td>\n",
       "      <td>...</td>\n",
       "      <td>...</td>\n",
       "      <td>...</td>\n",
       "    </tr>\n",
       "    <tr>\n",
       "      <th>4591</th>\n",
       "      <td>Arhar (Tur/Red Gram)(Whole)</td>\n",
       "      <td>Karnataka</td>\n",
       "      <td>Gulbarga</td>\n",
       "      <td>Gulbarga</td>\n",
       "      <td>5600.00</td>\n",
       "      <td>6825.00</td>\n",
       "      <td>6600.00</td>\n",
       "      <td>04-10-2021</td>\n",
       "      <td>NON-GMO</td>\n",
       "      <td>Dry Storage</td>\n",
       "      <td>Low</td>\n",
       "      <td>27089.0</td>\n",
       "      <td>Grade B</td>\n",
       "    </tr>\n",
       "    <tr>\n",
       "      <th>4592</th>\n",
       "      <td>Arhar (Tur/Red Gram)(Whole)</td>\n",
       "      <td>Karnataka</td>\n",
       "      <td>Koppal</td>\n",
       "      <td>Kustagi</td>\n",
       "      <td>6500.00</td>\n",
       "      <td>6500.00</td>\n",
       "      <td>6500.00</td>\n",
       "      <td>04-10-2021</td>\n",
       "      <td>CERTIFIED</td>\n",
       "      <td>Dry Storage</td>\n",
       "      <td>Low</td>\n",
       "      <td>27089.0</td>\n",
       "      <td>Grade B</td>\n",
       "    </tr>\n",
       "    <tr>\n",
       "      <th>4593</th>\n",
       "      <td>Arhar (Tur/Red Gram)(Whole)</td>\n",
       "      <td>Karnataka</td>\n",
       "      <td>Gadag</td>\n",
       "      <td>Laxmeshwar</td>\n",
       "      <td>3090.00</td>\n",
       "      <td>4588.00</td>\n",
       "      <td>3933.00</td>\n",
       "      <td>04-10-2021</td>\n",
       "      <td>GMO</td>\n",
       "      <td>Dry Storage</td>\n",
       "      <td>Low</td>\n",
       "      <td>27089.0</td>\n",
       "      <td>Grade B</td>\n",
       "    </tr>\n",
       "    <tr>\n",
       "      <th>4594</th>\n",
       "      <td>Arhar (Tur/Red Gram)(Whole)</td>\n",
       "      <td>Karnataka</td>\n",
       "      <td>Raichur</td>\n",
       "      <td>Raichur</td>\n",
       "      <td>5135.00</td>\n",
       "      <td>5135.00</td>\n",
       "      <td>5135.00</td>\n",
       "      <td>04-10-2021</td>\n",
       "      <td>CERTIFIED</td>\n",
       "      <td>Dry Storage</td>\n",
       "      <td>Low</td>\n",
       "      <td>27089.0</td>\n",
       "      <td>Grade B</td>\n",
       "    </tr>\n",
       "    <tr>\n",
       "      <th>4595</th>\n",
       "      <td>Arhar (Tur/Red Gram)(Whole)</td>\n",
       "      <td>Karnataka</td>\n",
       "      <td>Raichur</td>\n",
       "      <td>Raichur</td>\n",
       "      <td>6490.00</td>\n",
       "      <td>6490.00</td>\n",
       "      <td>0.00</td>\n",
       "      <td>04-10-2021</td>\n",
       "      <td>NON-GMO</td>\n",
       "      <td>Dry Storage</td>\n",
       "      <td>Low</td>\n",
       "      <td>27089.0</td>\n",
       "      <td>Grade B</td>\n",
       "    </tr>\n",
       "  </tbody>\n",
       "</table>\n",
       "<p>4342 rows × 13 columns</p>\n",
       "</div>"
      ],
      "text/plain": [
       "                   commodity_name      state    district      market  \\\n",
       "0                           Ajwan    Gujarat      Amreli      Amreli   \n",
       "1                           Ajwan    Gujarat  Banaskanth     Dhanera   \n",
       "2                           Ajwan    Gujarat    Jamnagar    Jamnagar   \n",
       "3                           Ajwan    Gujarat     Mehsana        Kadi   \n",
       "4                           Ajwan    Gujarat     Mehsana       Unjha   \n",
       "...                           ...        ...         ...         ...   \n",
       "4591  Arhar (Tur/Red Gram)(Whole)  Karnataka    Gulbarga    Gulbarga   \n",
       "4592  Arhar (Tur/Red Gram)(Whole)  Karnataka      Koppal     Kustagi   \n",
       "4593  Arhar (Tur/Red Gram)(Whole)  Karnataka       Gadag  Laxmeshwar   \n",
       "4594  Arhar (Tur/Red Gram)(Whole)  Karnataka     Raichur     Raichur   \n",
       "4595  Arhar (Tur/Red Gram)(Whole)  Karnataka     Raichur     Raichur   \n",
       "\n",
       "      min_price  max_price  modal_price        date certifications  \\\n",
       "0         63.25      79.55        79.55  22-05-2019      CERTIFIED   \n",
       "1         80.05      80.05        80.05  22-05-2019      CERTIFIED   \n",
       "2         90.00     155.00       122.50  22-05-2019        NON-GMO   \n",
       "3         94.50     112.50       107.00  22-05-2019      CERTIFIED   \n",
       "4         21.25     148.50        99.75  22-05-2019      CERTIFIED   \n",
       "...         ...        ...          ...         ...            ...   \n",
       "4591    5600.00    6825.00      6600.00  04-10-2021        NON-GMO   \n",
       "4592    6500.00    6500.00      6500.00  04-10-2021      CERTIFIED   \n",
       "4593    3090.00    4588.00      3933.00  04-10-2021            GMO   \n",
       "4594    5135.00    5135.00      5135.00  04-10-2021      CERTIFIED   \n",
       "4595    6490.00    6490.00         0.00  04-10-2021        NON-GMO   \n",
       "\n",
       "     storage type export_potential  production_quantity quality_grade  \n",
       "0     Dry Storage         Moderate              78268.0       Grade A  \n",
       "1     Dry Storage         Moderate              78268.0       Grade A  \n",
       "2     Dry Storage         Moderate              78268.0       Grade A  \n",
       "3     Dry Storage         Moderate              78268.0       Grade A  \n",
       "4     Dry Storage         Moderate              78268.0       Grade A  \n",
       "...           ...              ...                  ...           ...  \n",
       "4591  Dry Storage              Low              27089.0       Grade B  \n",
       "4592  Dry Storage              Low              27089.0       Grade B  \n",
       "4593  Dry Storage              Low              27089.0       Grade B  \n",
       "4594  Dry Storage              Low              27089.0       Grade B  \n",
       "4595  Dry Storage              Low              27089.0       Grade B  \n",
       "\n",
       "[4342 rows x 13 columns]"
      ]
     },
     "execution_count": 15,
     "metadata": {},
     "output_type": "execute_result"
    }
   ],
   "source": [
    "df = df[~df['commodity_name'].isin([\"She+Buffalo\", \"Calf\",\"Bull\",\"Chow+Chow\",\"Coca\",\"Cock\",\"Cow\",\"CowpeaVeg\",\"Duck\",\"He+Buffalo\",\"its\",\"NaN\",\"Pigs\",\"She+Goat\",\"Sheep\",\"Snake+gourd\",\"Snakeguard\",\"T.V.+Cumbu\"])]\n",
    "df"
   ]
  },
  {
   "cell_type": "code",
   "execution_count": 17,
   "id": "3f9d7e8d",
   "metadata": {},
   "outputs": [],
   "source": [
    "#saving a copy of the dataset\n",
    "df.to_csv('agridataneww.csv', index=False)"
   ]
  },
  {
   "cell_type": "code",
   "execution_count": 19,
   "id": "999f893f",
   "metadata": {},
   "outputs": [
    {
     "data": {
      "text/plain": [
       "commodity_name         4342\n",
       "state                  4342\n",
       "district               4342\n",
       "market                 4342\n",
       "min_price              4342\n",
       "max_price              4342\n",
       "modal_price            4342\n",
       "date                   4342\n",
       "certifications         4342\n",
       "storage type           4342\n",
       "export_potential       4342\n",
       "production_quantity    4342\n",
       "quality_grade          4342\n",
       "dtype: int64"
      ]
     },
     "execution_count": 19,
     "metadata": {},
     "output_type": "execute_result"
    }
   ],
   "source": [
    "df.count()"
   ]
  },
  {
   "cell_type": "code",
   "execution_count": 21,
   "id": "a0935f19",
   "metadata": {},
   "outputs": [
    {
     "data": {
      "text/html": [
       "<div>\n",
       "<style scoped>\n",
       "    .dataframe tbody tr th:only-of-type {\n",
       "        vertical-align: middle;\n",
       "    }\n",
       "\n",
       "    .dataframe tbody tr th {\n",
       "        vertical-align: top;\n",
       "    }\n",
       "\n",
       "    .dataframe thead th {\n",
       "        text-align: right;\n",
       "    }\n",
       "</style>\n",
       "<table border=\"1\" class=\"dataframe\">\n",
       "  <thead>\n",
       "    <tr style=\"text-align: right;\">\n",
       "      <th></th>\n",
       "      <th>min_price</th>\n",
       "      <th>max_price</th>\n",
       "      <th>modal_price</th>\n",
       "      <th>production_quantity</th>\n",
       "    </tr>\n",
       "  </thead>\n",
       "  <tbody>\n",
       "    <tr>\n",
       "      <th>count</th>\n",
       "      <td>4342.000000</td>\n",
       "      <td>4342.000000</td>\n",
       "      <td>4342.000000</td>\n",
       "      <td>4342.000000</td>\n",
       "    </tr>\n",
       "    <tr>\n",
       "      <th>mean</th>\n",
       "      <td>306.116032</td>\n",
       "      <td>336.897158</td>\n",
       "      <td>212.300364</td>\n",
       "      <td>57606.296407</td>\n",
       "    </tr>\n",
       "    <tr>\n",
       "      <th>std</th>\n",
       "      <td>2891.975616</td>\n",
       "      <td>2920.838492</td>\n",
       "      <td>1936.700280</td>\n",
       "      <td>26959.202885</td>\n",
       "    </tr>\n",
       "    <tr>\n",
       "      <th>min</th>\n",
       "      <td>0.000000</td>\n",
       "      <td>0.000000</td>\n",
       "      <td>0.000000</td>\n",
       "      <td>10469.000000</td>\n",
       "    </tr>\n",
       "    <tr>\n",
       "      <th>25%</th>\n",
       "      <td>15.000000</td>\n",
       "      <td>20.000000</td>\n",
       "      <td>18.000000</td>\n",
       "      <td>33306.000000</td>\n",
       "    </tr>\n",
       "    <tr>\n",
       "      <th>50%</th>\n",
       "      <td>30.000000</td>\n",
       "      <td>37.000000</td>\n",
       "      <td>35.000000</td>\n",
       "      <td>57954.000000</td>\n",
       "    </tr>\n",
       "    <tr>\n",
       "      <th>75%</th>\n",
       "      <td>54.000000</td>\n",
       "      <td>68.900000</td>\n",
       "      <td>61.550000</td>\n",
       "      <td>81382.000000</td>\n",
       "    </tr>\n",
       "    <tr>\n",
       "      <th>max</th>\n",
       "      <td>50000.000000</td>\n",
       "      <td>48499.000000</td>\n",
       "      <td>47738.000000</td>\n",
       "      <td>99987.000000</td>\n",
       "    </tr>\n",
       "  </tbody>\n",
       "</table>\n",
       "</div>"
      ],
      "text/plain": [
       "          min_price     max_price   modal_price  production_quantity\n",
       "count   4342.000000   4342.000000   4342.000000          4342.000000\n",
       "mean     306.116032    336.897158    212.300364         57606.296407\n",
       "std     2891.975616   2920.838492   1936.700280         26959.202885\n",
       "min        0.000000      0.000000      0.000000         10469.000000\n",
       "25%       15.000000     20.000000     18.000000         33306.000000\n",
       "50%       30.000000     37.000000     35.000000         57954.000000\n",
       "75%       54.000000     68.900000     61.550000         81382.000000\n",
       "max    50000.000000  48499.000000  47738.000000         99987.000000"
      ]
     },
     "execution_count": 21,
     "metadata": {},
     "output_type": "execute_result"
    }
   ],
   "source": [
    "#Describe the data\n",
    "df.describe()"
   ]
  },
  {
   "cell_type": "code",
   "execution_count": 23,
   "id": "e303ca94",
   "metadata": {},
   "outputs": [
    {
     "name": "stdout",
     "output_type": "stream",
     "text": [
      "<class 'pandas.core.frame.DataFrame'>\n",
      "Index: 4342 entries, 0 to 4595\n",
      "Data columns (total 13 columns):\n",
      " #   Column               Non-Null Count  Dtype  \n",
      "---  ------               --------------  -----  \n",
      " 0   commodity_name       4342 non-null   object \n",
      " 1   state                4342 non-null   object \n",
      " 2   district             4342 non-null   object \n",
      " 3   market               4342 non-null   object \n",
      " 4   min_price            4342 non-null   float64\n",
      " 5   max_price            4342 non-null   float64\n",
      " 6   modal_price          4342 non-null   float64\n",
      " 7   date                 4342 non-null   object \n",
      " 8   certifications       4342 non-null   object \n",
      " 9   storage type         4342 non-null   object \n",
      " 10  export_potential     4342 non-null   object \n",
      " 11  production_quantity  4342 non-null   float64\n",
      " 12  quality_grade        4342 non-null   object \n",
      "dtypes: float64(4), object(9)\n",
      "memory usage: 474.9+ KB\n"
     ]
    }
   ],
   "source": [
    "df.info()"
   ]
  },
  {
   "cell_type": "code",
   "execution_count": 25,
   "id": "67f56ad7",
   "metadata": {},
   "outputs": [
    {
     "name": "stdout",
     "output_type": "stream",
     "text": [
      "0                             Ajwan\n",
      "1                             Ajwan\n",
      "2                             Ajwan\n",
      "3                             Ajwan\n",
      "4                             Ajwan\n",
      "                   ...             \n",
      "4591    Arhar (Tur/Red Gram)(Whole)\n",
      "4592    Arhar (Tur/Red Gram)(Whole)\n",
      "4593    Arhar (Tur/Red Gram)(Whole)\n",
      "4594    Arhar (Tur/Red Gram)(Whole)\n",
      "4595    Arhar (Tur/Red Gram)(Whole)\n",
      "Name: commodity_name, Length: 4342, dtype: object\n"
     ]
    },
    {
     "name": "stderr",
     "output_type": "stream",
     "text": [
      "C:\\Users\\Ayushi\\AppData\\Local\\Temp\\ipykernel_28948\\3282945486.py:2: SettingWithCopyWarning: \n",
      "A value is trying to be set on a copy of a slice from a DataFrame.\n",
      "Try using .loc[row_indexer,col_indexer] = value instead\n",
      "\n",
      "See the caveats in the documentation: https://pandas.pydata.org/pandas-docs/stable/user_guide/indexing.html#returning-a-view-versus-a-copy\n",
      "  df['commodity_name'] = df['commodity_name'].replace('ï¿½\u0002ï¿½xï¿½ï¿½Apple', 'Apple')\n"
     ]
    }
   ],
   "source": [
    "#replacing the commodity name which have glyph text in the data\n",
    "df['commodity_name'] = df['commodity_name'].replace('ï¿½\u0002ï¿½xï¿½ï¿½Apple', 'Apple')\n",
    "print(df['commodity_name'])"
   ]
  },
  {
   "cell_type": "code",
   "execution_count": 27,
   "id": "57f2468b",
   "metadata": {},
   "outputs": [
    {
     "data": {
      "text/html": [
       "<div class='tableauPlaceholder' id='viz1711780126978' style='position: relative'><noscript><a href='#'><img alt='Top 10 Commodities based on Average Prices in all States ' src='https:&#47;&#47;public.tableau.com&#47;static&#47;images&#47;Wh&#47;WhichCommoditiesareCertifiedOrganicNON-GMOandGMOinEachState&#47;Sheet18&#47;1_rss.png' style='border: none' /></a></noscript><object class='tableauViz'  style='display:none;'><param name='host_url' value='https%3A%2F%2Fpublic.tableau.com%2F' /> <param name='embed_code_version' value='3' /> <param name='site_root' value='' /><param name='name' value='WhichCommoditiesareCertifiedOrganicNON-GMOandGMOinEachState&#47;Sheet18' /><param name='tabs' value='no' /><param name='toolbar' value='yes' /><param name='static_image' value='https:&#47;&#47;public.tableau.com&#47;static&#47;images&#47;Wh&#47;WhichCommoditiesareCertifiedOrganicNON-GMOandGMOinEachState&#47;Sheet18&#47;1.png' /> <param name='animate_transition' value='yes' /><param name='display_static_image' value='yes' /><param name='display_spinner' value='yes' /><param name='display_overlay' value='yes' /><param name='display_count' value='yes' /><param name='language' value='en-US' /><param name='filter' value='publish=yes' /></object></div>                <script type='text/javascript'>                    var divElement = document.getElementById('viz1711780126978');                    var vizElement = divElement.getElementsByTagName('object')[0];                    vizElement.style.width='100%';vizElement.style.height=(divElement.offsetWidth*0.75)+'px';                    var scriptElement = document.createElement('script');                    scriptElement.src = 'https://public.tableau.com/javascripts/api/viz_v1.js';                    vizElement.parentNode.insertBefore(scriptElement, vizElement);                </script>\n"
      ],
      "text/plain": [
       "<IPython.core.display.HTML object>"
      ]
     },
     "metadata": {},
     "output_type": "display_data"
    }
   ],
   "source": [
    "%%html\n",
    "<div class='tableauPlaceholder' id='viz1711780126978' style='position: relative'><noscript><a href='#'><img alt='Top 10 Commodities based on Average Prices in all States ' src='https:&#47;&#47;public.tableau.com&#47;static&#47;images&#47;Wh&#47;WhichCommoditiesareCertifiedOrganicNON-GMOandGMOinEachState&#47;Sheet18&#47;1_rss.png' style='border: none' /></a></noscript><object class='tableauViz'  style='display:none;'><param name='host_url' value='https%3A%2F%2Fpublic.tableau.com%2F' /> <param name='embed_code_version' value='3' /> <param name='site_root' value='' /><param name='name' value='WhichCommoditiesareCertifiedOrganicNON-GMOandGMOinEachState&#47;Sheet18' /><param name='tabs' value='no' /><param name='toolbar' value='yes' /><param name='static_image' value='https:&#47;&#47;public.tableau.com&#47;static&#47;images&#47;Wh&#47;WhichCommoditiesareCertifiedOrganicNON-GMOandGMOinEachState&#47;Sheet18&#47;1.png' /> <param name='animate_transition' value='yes' /><param name='display_static_image' value='yes' /><param name='display_spinner' value='yes' /><param name='display_overlay' value='yes' /><param name='display_count' value='yes' /><param name='language' value='en-US' /><param name='filter' value='publish=yes' /></object></div>                <script type='text/javascript'>                    var divElement = document.getElementById('viz1711780126978');                    var vizElement = divElement.getElementsByTagName('object')[0];                    vizElement.style.width='100%';vizElement.style.height=(divElement.offsetWidth*0.75)+'px';                    var scriptElement = document.createElement('script');                    scriptElement.src = 'https://public.tableau.com/javascripts/api/viz_v1.js';                    vizElement.parentNode.insertBefore(scriptElement, vizElement);                </script>"
   ]
  },
  {
   "cell_type": "code",
   "execution_count": 29,
   "id": "64586a48",
   "metadata": {},
   "outputs": [
    {
     "data": {
      "text/html": [
       "<div class='tableauPlaceholder' id='viz1711865831234' style='position: relative'><noscript><a href='#'><img alt='Bottom 10 Commodities based on Average Prices in all States ' src='https:&#47;&#47;public.tableau.com&#47;static&#47;images&#47;Bo&#47;Bottom10CommoditiesbasedonAveragePricesinallStates&#47;Sheet182&#47;1_rss.png' style='border: none' /></a></noscript><object class='tableauViz'  style='display:none;'><param name='host_url' value='https%3A%2F%2Fpublic.tableau.com%2F' /> <param name='embed_code_version' value='3' /> <param name='site_root' value='' /><param name='name' value='Bottom10CommoditiesbasedonAveragePricesinallStates&#47;Sheet182' /><param name='tabs' value='no' /><param name='toolbar' value='yes' /><param name='static_image' value='https:&#47;&#47;public.tableau.com&#47;static&#47;images&#47;Bo&#47;Bottom10CommoditiesbasedonAveragePricesinallStates&#47;Sheet182&#47;1.png' /> <param name='animate_transition' value='yes' /><param name='display_static_image' value='yes' /><param name='display_spinner' value='yes' /><param name='display_overlay' value='yes' /><param name='display_count' value='yes' /><param name='language' value='en-US' /><param name='filter' value='publish=yes' /></object></div>                <script type='text/javascript'>                    var divElement = document.getElementById('viz1711865831234');                    var vizElement = divElement.getElementsByTagName('object')[0];                    vizElement.style.width='100%';vizElement.style.height=(divElement.offsetWidth*0.75)+'px';                    var scriptElement = document.createElement('script');                    scriptElement.src = 'https://public.tableau.com/javascripts/api/viz_v1.js';                    vizElement.parentNode.insertBefore(scriptElement, vizElement);                </script>\n"
      ],
      "text/plain": [
       "<IPython.core.display.HTML object>"
      ]
     },
     "metadata": {},
     "output_type": "display_data"
    }
   ],
   "source": [
    "%%html\n",
    "<div class='tableauPlaceholder' id='viz1711865831234' style='position: relative'><noscript><a href='#'><img alt='Bottom 10 Commodities based on Average Prices in all States ' src='https:&#47;&#47;public.tableau.com&#47;static&#47;images&#47;Bo&#47;Bottom10CommoditiesbasedonAveragePricesinallStates&#47;Sheet182&#47;1_rss.png' style='border: none' /></a></noscript><object class='tableauViz'  style='display:none;'><param name='host_url' value='https%3A%2F%2Fpublic.tableau.com%2F' /> <param name='embed_code_version' value='3' /> <param name='site_root' value='' /><param name='name' value='Bottom10CommoditiesbasedonAveragePricesinallStates&#47;Sheet182' /><param name='tabs' value='no' /><param name='toolbar' value='yes' /><param name='static_image' value='https:&#47;&#47;public.tableau.com&#47;static&#47;images&#47;Bo&#47;Bottom10CommoditiesbasedonAveragePricesinallStates&#47;Sheet182&#47;1.png' /> <param name='animate_transition' value='yes' /><param name='display_static_image' value='yes' /><param name='display_spinner' value='yes' /><param name='display_overlay' value='yes' /><param name='display_count' value='yes' /><param name='language' value='en-US' /><param name='filter' value='publish=yes' /></object></div>                <script type='text/javascript'>                    var divElement = document.getElementById('viz1711865831234');                    var vizElement = divElement.getElementsByTagName('object')[0];                    vizElement.style.width='100%';vizElement.style.height=(divElement.offsetWidth*0.75)+'px';                    var scriptElement = document.createElement('script');                    scriptElement.src = 'https://public.tableau.com/javascripts/api/viz_v1.js';                    vizElement.parentNode.insertBefore(scriptElement, vizElement);                </script>"
   ]
  },
  {
   "cell_type": "code",
   "execution_count": 31,
   "id": "9175edcf",
   "metadata": {},
   "outputs": [
    {
     "name": "stdout",
     "output_type": "stream",
     "text": [
      "Maximum Price of First 20 commodities\n",
      "commodity_name\n",
      "Ajwan                            170.00\n",
      "Alasande Gram                   8500.00\n",
      "Alasande+Gram                     53.00\n",
      "Almond(Badam)                     70.00\n",
      "Alsandikai                      4000.00\n",
      "Amaranthus                        40.00\n",
      "Ambada+Seed                       17.20\n",
      "Amla(Nelli Kai)                 4500.00\n",
      "Amla(Nelli+Kai)                  135.00\n",
      "Amphophalus                       55.00\n",
      "Antawala                          63.68\n",
      "Anthorium                         50.00\n",
      "Apple                            160.00\n",
      "Arecanut(Betelnut/Supari)      48499.00\n",
      "Arhar (Tur/Red Gram)(Whole)     6825.00\n",
      "Arhar+Dal(Tur+Dal)                95.00\n",
      "Ashgourd                          77.00\n",
      "Avare+Dal                         73.00\n",
      "Balekai                           30.00\n",
      "Bamboo                             5.63\n",
      "Name: max_price, dtype: float64\n"
     ]
    }
   ],
   "source": [
    "#Display Max Price Of First 20 commodities\n",
    "print(\"Maximum Price of First 20 commodities\")\n",
    "max_price_by_commodity = df.groupby('commodity_name')['max_price'].max().head(20)\n",
    "print(max_price_by_commodity)"
   ]
  },
  {
   "cell_type": "code",
   "execution_count": 33,
   "id": "1cb5d440",
   "metadata": {},
   "outputs": [
    {
     "name": "stdout",
     "output_type": "stream",
     "text": [
      "['Gujarat' 'Madhya Pradesh' 'Rajasthan' 'Karnataka' 'Kerala' 'Punjab'\n",
      " 'Uttar Pradesh' 'Chattisgarh' 'Haryana' 'Himachal Pradesh' 'Assam'\n",
      " 'Maharashtra' 'Manipur' 'Nagaland' 'Odisha' 'Meghalaya'\n",
      " 'Jammu and Kashmir' 'Tamil Nadu' 'Andhra Pradesh' 'Pondicherry'\n",
      " 'Telangana' 'Uttrakhand' 'Tripura' 'NCT of Delhi' 'West Bengal' 'Goa'\n",
      " 'Mizoram' 'Jharkhand']\n"
     ]
    }
   ],
   "source": [
    "distinct_state = df['state'].unique()\n",
    "print(distinct_state)"
   ]
  },
  {
   "cell_type": "code",
   "execution_count": 35,
   "id": "f22f457c",
   "metadata": {},
   "outputs": [
    {
     "data": {
      "text/html": [
       "<div class='tableauPlaceholder' id='viz1711714395201' style='position: relative'><noscript><a href='#'><img alt='Dashboard 1 ' src='https:&#47;&#47;public.tableau.com&#47;static&#47;images&#47;ag&#47;agridata_17117143557360&#47;Dashboard1&#47;1_rss.png' style='border: none' /></a></noscript><object class='tableauViz'  style='display:none;'><param name='host_url' value='https%3A%2F%2Fpublic.tableau.com%2F' /> <param name='embed_code_version' value='3' /> <param name='site_root' value='' /><param name='name' value='agridata_17117143557360&#47;Dashboard1' /><param name='tabs' value='no' /><param name='toolbar' value='yes' /><param name='static_image' value='https:&#47;&#47;public.tableau.com&#47;static&#47;images&#47;ag&#47;agridata_17117143557360&#47;Dashboard1&#47;1.png' /> <param name='animate_transition' value='yes' /><param name='display_static_image' value='yes' /><param name='display_spinner' value='yes' /><param name='display_overlay' value='yes' /><param name='display_count' value='yes' /><param name='language' value='en-US' /><param name='filter' value='publish=yes' /></object></div>                <script type='text/javascript'>                    var divElement = document.getElementById('viz1711714395201');                    var vizElement = divElement.getElementsByTagName('object')[0];                    if ( divElement.offsetWidth > 800 ) { vizElement.style.width='100%';vizElement.style.height=(divElement.offsetWidth*0.75)+'px';} else if ( divElement.offsetWidth > 500 ) { vizElement.style.width='100%';vizElement.style.height=(divElement.offsetWidth*0.75)+'px';} else { vizElement.style.width='100%';vizElement.style.height='727px';}                     var scriptElement = document.createElement('script');                    scriptElement.src = 'https://public.tableau.com/javascripts/api/viz_v1.js';                    vizElement.parentNode.insertBefore(scriptElement, vizElement);                </script>\n"
      ],
      "text/plain": [
       "<IPython.core.display.HTML object>"
      ]
     },
     "metadata": {},
     "output_type": "display_data"
    }
   ],
   "source": [
    "%%html \n",
    "<div class='tableauPlaceholder' id='viz1711714395201' style='position: relative'><noscript><a href='#'><img alt='Dashboard 1 ' src='https:&#47;&#47;public.tableau.com&#47;static&#47;images&#47;ag&#47;agridata_17117143557360&#47;Dashboard1&#47;1_rss.png' style='border: none' /></a></noscript><object class='tableauViz'  style='display:none;'><param name='host_url' value='https%3A%2F%2Fpublic.tableau.com%2F' /> <param name='embed_code_version' value='3' /> <param name='site_root' value='' /><param name='name' value='agridata_17117143557360&#47;Dashboard1' /><param name='tabs' value='no' /><param name='toolbar' value='yes' /><param name='static_image' value='https:&#47;&#47;public.tableau.com&#47;static&#47;images&#47;ag&#47;agridata_17117143557360&#47;Dashboard1&#47;1.png' /> <param name='animate_transition' value='yes' /><param name='display_static_image' value='yes' /><param name='display_spinner' value='yes' /><param name='display_overlay' value='yes' /><param name='display_count' value='yes' /><param name='language' value='en-US' /><param name='filter' value='publish=yes' /></object></div>                <script type='text/javascript'>                    var divElement = document.getElementById('viz1711714395201');                    var vizElement = divElement.getElementsByTagName('object')[0];                    if ( divElement.offsetWidth > 800 ) { vizElement.style.width='100%';vizElement.style.height=(divElement.offsetWidth*0.75)+'px';} else if ( divElement.offsetWidth > 500 ) { vizElement.style.width='100%';vizElement.style.height=(divElement.offsetWidth*0.75)+'px';} else { vizElement.style.width='100%';vizElement.style.height='727px';}                     var scriptElement = document.createElement('script');                    scriptElement.src = 'https://public.tableau.com/javascripts/api/viz_v1.js';                    vizElement.parentNode.insertBefore(scriptElement, vizElement);                </script>"
   ]
  },
  {
   "cell_type": "code",
   "execution_count": 37,
   "id": "7194d3d2",
   "metadata": {},
   "outputs": [
    {
     "data": {
      "text/html": [
       "<div class='tableauPlaceholder' id='viz1711715046660' style='position: relative'><noscript><a href='#'><img alt='What are the maximum prices of commodities in each state? ' src='https:&#47;&#47;public.tableau.com&#47;static&#47;images&#47;ma&#47;maxprices&#47;Sheet12&#47;1_rss.png' style='border: none' /></a></noscript><object class='tableauViz'  style='display:none;'><param name='host_url' value='https%3A%2F%2Fpublic.tableau.com%2F' /> <param name='embed_code_version' value='3' /> <param name='site_root' value='' /><param name='name' value='maxprices&#47;Sheet12' /><param name='tabs' value='no' /><param name='toolbar' value='yes' /><param name='static_image' value='https:&#47;&#47;public.tableau.com&#47;static&#47;images&#47;ma&#47;maxprices&#47;Sheet12&#47;1.png' /> <param name='animate_transition' value='yes' /><param name='display_static_image' value='yes' /><param name='display_spinner' value='yes' /><param name='display_overlay' value='yes' /><param name='display_count' value='yes' /><param name='language' value='en-US' /><param name='filter' value='publish=yes' /></object></div>                <script type='text/javascript'>                    var divElement = document.getElementById('viz1711715046660');                    var vizElement = divElement.getElementsByTagName('object')[0];                    vizElement.style.width='100%';vizElement.style.height=(divElement.offsetWidth*0.75)+'px';                    var scriptElement = document.createElement('script');                    scriptElement.src = 'https://public.tableau.com/javascripts/api/viz_v1.js';                    vizElement.parentNode.insertBefore(scriptElement, vizElement);                </script>\n"
      ],
      "text/plain": [
       "<IPython.core.display.HTML object>"
      ]
     },
     "metadata": {},
     "output_type": "display_data"
    }
   ],
   "source": [
    "%%html\n",
    "<div class='tableauPlaceholder' id='viz1711715046660' style='position: relative'><noscript><a href='#'><img alt='What are the maximum prices of commodities in each state? ' src='https:&#47;&#47;public.tableau.com&#47;static&#47;images&#47;ma&#47;maxprices&#47;Sheet12&#47;1_rss.png' style='border: none' /></a></noscript><object class='tableauViz'  style='display:none;'><param name='host_url' value='https%3A%2F%2Fpublic.tableau.com%2F' /> <param name='embed_code_version' value='3' /> <param name='site_root' value='' /><param name='name' value='maxprices&#47;Sheet12' /><param name='tabs' value='no' /><param name='toolbar' value='yes' /><param name='static_image' value='https:&#47;&#47;public.tableau.com&#47;static&#47;images&#47;ma&#47;maxprices&#47;Sheet12&#47;1.png' /> <param name='animate_transition' value='yes' /><param name='display_static_image' value='yes' /><param name='display_spinner' value='yes' /><param name='display_overlay' value='yes' /><param name='display_count' value='yes' /><param name='language' value='en-US' /><param name='filter' value='publish=yes' /></object></div>                <script type='text/javascript'>                    var divElement = document.getElementById('viz1711715046660');                    var vizElement = divElement.getElementsByTagName('object')[0];                    vizElement.style.width='100%';vizElement.style.height=(divElement.offsetWidth*0.75)+'px';                    var scriptElement = document.createElement('script');                    scriptElement.src = 'https://public.tableau.com/javascripts/api/viz_v1.js';                    vizElement.parentNode.insertBefore(scriptElement, vizElement);                </script>"
   ]
  },
  {
   "cell_type": "code",
   "execution_count": 39,
   "id": "f77b92d3",
   "metadata": {},
   "outputs": [
    {
     "data": {
      "text/html": [
       "<div class='tableauPlaceholder' id='viz1711783864264' style='position: relative'><noscript><a href='#'><img alt='Compare Minimum and Maximum prices of Commodities in each State ' src='https:&#47;&#47;public.tableau.com&#47;static&#47;images&#47;co&#47;comparemaxandminprices&#47;Sheet13&#47;1_rss.png' style='border: none' /></a></noscript><object class='tableauViz'  style='display:none;'><param name='host_url' value='https%3A%2F%2Fpublic.tableau.com%2F' /> <param name='embed_code_version' value='3' /> <param name='site_root' value='' /><param name='name' value='comparemaxandminprices&#47;Sheet13' /><param name='tabs' value='no' /><param name='toolbar' value='yes' /><param name='static_image' value='https:&#47;&#47;public.tableau.com&#47;static&#47;images&#47;co&#47;comparemaxandminprices&#47;Sheet13&#47;1.png' /> <param name='animate_transition' value='yes' /><param name='display_static_image' value='yes' /><param name='display_spinner' value='yes' /><param name='display_overlay' value='yes' /><param name='display_count' value='yes' /><param name='language' value='en-US' /></object></div>                <script type='text/javascript'>                    var divElement = document.getElementById('viz1711783864264');                    var vizElement = divElement.getElementsByTagName('object')[0];                    vizElement.style.width='100%';vizElement.style.height=(divElement.offsetWidth*0.75)+'px';                    var scriptElement = document.createElement('script');                    scriptElement.src = 'https://public.tableau.com/javascripts/api/viz_v1.js';                    vizElement.parentNode.insertBefore(scriptElement, vizElement);                </script>\n"
      ],
      "text/plain": [
       "<IPython.core.display.HTML object>"
      ]
     },
     "metadata": {},
     "output_type": "display_data"
    }
   ],
   "source": [
    "%%html\n",
    "<div class='tableauPlaceholder' id='viz1711783864264' style='position: relative'><noscript><a href='#'><img alt='Compare Minimum and Maximum prices of Commodities in each State ' src='https:&#47;&#47;public.tableau.com&#47;static&#47;images&#47;co&#47;comparemaxandminprices&#47;Sheet13&#47;1_rss.png' style='border: none' /></a></noscript><object class='tableauViz'  style='display:none;'><param name='host_url' value='https%3A%2F%2Fpublic.tableau.com%2F' /> <param name='embed_code_version' value='3' /> <param name='site_root' value='' /><param name='name' value='comparemaxandminprices&#47;Sheet13' /><param name='tabs' value='no' /><param name='toolbar' value='yes' /><param name='static_image' value='https:&#47;&#47;public.tableau.com&#47;static&#47;images&#47;co&#47;comparemaxandminprices&#47;Sheet13&#47;1.png' /> <param name='animate_transition' value='yes' /><param name='display_static_image' value='yes' /><param name='display_spinner' value='yes' /><param name='display_overlay' value='yes' /><param name='display_count' value='yes' /><param name='language' value='en-US' /></object></div>                <script type='text/javascript'>                    var divElement = document.getElementById('viz1711783864264');                    var vizElement = divElement.getElementsByTagName('object')[0];                    vizElement.style.width='100%';vizElement.style.height=(divElement.offsetWidth*0.75)+'px';                    var scriptElement = document.createElement('script');                    scriptElement.src = 'https://public.tableau.com/javascripts/api/viz_v1.js';                    vizElement.parentNode.insertBefore(scriptElement, vizElement);                </script>"
   ]
  },
  {
   "cell_type": "code",
   "execution_count": 41,
   "id": "90c5db6d",
   "metadata": {},
   "outputs": [
    {
     "data": {
      "text/html": [
       "<div class='tableauPlaceholder' id='viz1711719657523' style='position: relative'><noscript><a href='#'><img alt='Dashboard 5 ' src='https:&#47;&#47;public.tableau.com&#47;static&#47;images&#47;Di&#47;District-wiseDistributionofMinimumPricesofCommodities&#47;Dashboard5&#47;1_rss.png' style='border: none' /></a></noscript><object class='tableauViz'  style='display:none;'><param name='host_url' value='https%3A%2F%2Fpublic.tableau.com%2F' /> <param name='embed_code_version' value='3' /> <param name='site_root' value='' /><param name='name' value='District-wiseDistributionofMinimumPricesofCommodities&#47;Dashboard5' /><param name='tabs' value='no' /><param name='toolbar' value='yes' /><param name='static_image' value='https:&#47;&#47;public.tableau.com&#47;static&#47;images&#47;Di&#47;District-wiseDistributionofMinimumPricesofCommodities&#47;Dashboard5&#47;1.png' /> <param name='animate_transition' value='yes' /><param name='display_static_image' value='yes' /><param name='display_spinner' value='yes' /><param name='display_overlay' value='yes' /><param name='display_count' value='yes' /><param name='language' value='en-US' /><param name='filter' value='publish=yes' /></object></div>                <script type='text/javascript'>                    var divElement = document.getElementById('viz1711719657523');                    var vizElement = divElement.getElementsByTagName('object')[0];                    if ( divElement.offsetWidth > 800 ) { vizElement.style.width='100%';vizElement.style.height=(divElement.offsetWidth*0.75)+'px';} else if ( divElement.offsetWidth > 500 ) { vizElement.style.width='100%';vizElement.style.height=(divElement.offsetWidth*0.75)+'px';} else { vizElement.style.width='100%';vizElement.style.height='727px';}                     var scriptElement = document.createElement('script');                    scriptElement.src = 'https://public.tableau.com/javascripts/api/viz_v1.js';                    vizElement.parentNode.insertBefore(scriptElement, vizElement);                </script>\n"
      ],
      "text/plain": [
       "<IPython.core.display.HTML object>"
      ]
     },
     "metadata": {},
     "output_type": "display_data"
    }
   ],
   "source": [
    "%%html\n",
    "<div class='tableauPlaceholder' id='viz1711719657523' style='position: relative'><noscript><a href='#'><img alt='Dashboard 5 ' src='https:&#47;&#47;public.tableau.com&#47;static&#47;images&#47;Di&#47;District-wiseDistributionofMinimumPricesofCommodities&#47;Dashboard5&#47;1_rss.png' style='border: none' /></a></noscript><object class='tableauViz'  style='display:none;'><param name='host_url' value='https%3A%2F%2Fpublic.tableau.com%2F' /> <param name='embed_code_version' value='3' /> <param name='site_root' value='' /><param name='name' value='District-wiseDistributionofMinimumPricesofCommodities&#47;Dashboard5' /><param name='tabs' value='no' /><param name='toolbar' value='yes' /><param name='static_image' value='https:&#47;&#47;public.tableau.com&#47;static&#47;images&#47;Di&#47;District-wiseDistributionofMinimumPricesofCommodities&#47;Dashboard5&#47;1.png' /> <param name='animate_transition' value='yes' /><param name='display_static_image' value='yes' /><param name='display_spinner' value='yes' /><param name='display_overlay' value='yes' /><param name='display_count' value='yes' /><param name='language' value='en-US' /><param name='filter' value='publish=yes' /></object></div>                <script type='text/javascript'>                    var divElement = document.getElementById('viz1711719657523');                    var vizElement = divElement.getElementsByTagName('object')[0];                    if ( divElement.offsetWidth > 800 ) { vizElement.style.width='100%';vizElement.style.height=(divElement.offsetWidth*0.75)+'px';} else if ( divElement.offsetWidth > 500 ) { vizElement.style.width='100%';vizElement.style.height=(divElement.offsetWidth*0.75)+'px';} else { vizElement.style.width='100%';vizElement.style.height='727px';}                     var scriptElement = document.createElement('script');                    scriptElement.src = 'https://public.tableau.com/javascripts/api/viz_v1.js';                    vizElement.parentNode.insertBefore(scriptElement, vizElement);                </script>"
   ]
  },
  {
   "cell_type": "code",
   "execution_count": 43,
   "id": "7e94b694",
   "metadata": {},
   "outputs": [
    {
     "data": {
      "text/html": [
       "<div class='tableauPlaceholder' id='viz1711720053462' style='position: relative'><noscript><a href='#'><img alt='District-wise Distribution of Maximum Prices of Commodities ' src='https:&#47;&#47;public.tableau.com&#47;static&#47;images&#47;Di&#47;District-wiseDistributionofMaximumPricesofCommodities&#47;Sheet43&#47;1_rss.png' style='border: none' /></a></noscript><object class='tableauViz'  style='display:none;'><param name='host_url' value='https%3A%2F%2Fpublic.tableau.com%2F' /> <param name='embed_code_version' value='3' /> <param name='site_root' value='' /><param name='name' value='District-wiseDistributionofMaximumPricesofCommodities&#47;Sheet43' /><param name='tabs' value='no' /><param name='toolbar' value='yes' /><param name='static_image' value='https:&#47;&#47;public.tableau.com&#47;static&#47;images&#47;Di&#47;District-wiseDistributionofMaximumPricesofCommodities&#47;Sheet43&#47;1.png' /> <param name='animate_transition' value='yes' /><param name='display_static_image' value='yes' /><param name='display_spinner' value='yes' /><param name='display_overlay' value='yes' /><param name='display_count' value='yes' /><param name='language' value='en-US' /><param name='filter' value='publish=yes' /></object></div>                <script type='text/javascript'>                    var divElement = document.getElementById('viz1711720053462');                    var vizElement = divElement.getElementsByTagName('object')[0];                    vizElement.style.width='100%';vizElement.style.height=(divElement.offsetWidth*0.75)+'px';                    var scriptElement = document.createElement('script');                    scriptElement.src = 'https://public.tableau.com/javascripts/api/viz_v1.js';                    vizElement.parentNode.insertBefore(scriptElement, vizElement);                </script>\n"
      ],
      "text/plain": [
       "<IPython.core.display.HTML object>"
      ]
     },
     "metadata": {},
     "output_type": "display_data"
    }
   ],
   "source": [
    "%%html\n",
    "<div class='tableauPlaceholder' id='viz1711720053462' style='position: relative'><noscript><a href='#'><img alt='District-wise Distribution of Maximum Prices of Commodities ' src='https:&#47;&#47;public.tableau.com&#47;static&#47;images&#47;Di&#47;District-wiseDistributionofMaximumPricesofCommodities&#47;Sheet43&#47;1_rss.png' style='border: none' /></a></noscript><object class='tableauViz'  style='display:none;'><param name='host_url' value='https%3A%2F%2Fpublic.tableau.com%2F' /> <param name='embed_code_version' value='3' /> <param name='site_root' value='' /><param name='name' value='District-wiseDistributionofMaximumPricesofCommodities&#47;Sheet43' /><param name='tabs' value='no' /><param name='toolbar' value='yes' /><param name='static_image' value='https:&#47;&#47;public.tableau.com&#47;static&#47;images&#47;Di&#47;District-wiseDistributionofMaximumPricesofCommodities&#47;Sheet43&#47;1.png' /> <param name='animate_transition' value='yes' /><param name='display_static_image' value='yes' /><param name='display_spinner' value='yes' /><param name='display_overlay' value='yes' /><param name='display_count' value='yes' /><param name='language' value='en-US' /><param name='filter' value='publish=yes' /></object></div>                <script type='text/javascript'>                    var divElement = document.getElementById('viz1711720053462');                    var vizElement = divElement.getElementsByTagName('object')[0];                    vizElement.style.width='100%';vizElement.style.height=(divElement.offsetWidth*0.75)+'px';                    var scriptElement = document.createElement('script');                    scriptElement.src = 'https://public.tableau.com/javascripts/api/viz_v1.js';                    vizElement.parentNode.insertBefore(scriptElement, vizElement);                </script>"
   ]
  },
  {
   "cell_type": "code",
   "execution_count": 45,
   "id": "e4208156",
   "metadata": {},
   "outputs": [
    {
     "data": {
      "text/html": [
       "<div class='tableauPlaceholder' id='viz1711720602141' style='position: relative'><noscript><a href='#'><img alt='Comparison of Minimum and Maximum Prices for Agricultural Commodities Across Districts ' src='https:&#47;&#47;public.tableau.com&#47;static&#47;images&#47;co&#47;comparemaxandminpriceacrossdistricts&#47;Dashboard4&#47;1_rss.png' style='border: none' /></a></noscript><object class='tableauViz'  style='display:none;'><param name='host_url' value='https%3A%2F%2Fpublic.tableau.com%2F' /> <param name='embed_code_version' value='3' /> <param name='site_root' value='' /><param name='name' value='comparemaxandminpriceacrossdistricts&#47;Dashboard4' /><param name='tabs' value='no' /><param name='toolbar' value='yes' /><param name='static_image' value='https:&#47;&#47;public.tableau.com&#47;static&#47;images&#47;co&#47;comparemaxandminpriceacrossdistricts&#47;Dashboard4&#47;1.png' /> <param name='animate_transition' value='yes' /><param name='display_static_image' value='yes' /><param name='display_spinner' value='yes' /><param name='display_overlay' value='yes' /><param name='display_count' value='yes' /><param name='language' value='en-US' /></object></div>                <script type='text/javascript'>                    var divElement = document.getElementById('viz1711720602141');                    var vizElement = divElement.getElementsByTagName('object')[0];                    if ( divElement.offsetWidth > 800 ) { vizElement.style.width='100%';vizElement.style.height=(divElement.offsetWidth*0.75)+'px';} else if ( divElement.offsetWidth > 500 ) { vizElement.style.width='100%';vizElement.style.height=(divElement.offsetWidth*0.75)+'px';} else { vizElement.style.width='100%';vizElement.style.height='777px';}                     var scriptElement = document.createElement('script');                    scriptElement.src = 'https://public.tableau.com/javascripts/api/viz_v1.js';                    vizElement.parentNode.insertBefore(scriptElement, vizElement);                </script>\n"
      ],
      "text/plain": [
       "<IPython.core.display.HTML object>"
      ]
     },
     "metadata": {},
     "output_type": "display_data"
    }
   ],
   "source": [
    "%%html\n",
    "<div class='tableauPlaceholder' id='viz1711720602141' style='position: relative'><noscript><a href='#'><img alt='Comparison of Minimum and Maximum Prices for Agricultural Commodities Across Districts ' src='https:&#47;&#47;public.tableau.com&#47;static&#47;images&#47;co&#47;comparemaxandminpriceacrossdistricts&#47;Dashboard4&#47;1_rss.png' style='border: none' /></a></noscript><object class='tableauViz'  style='display:none;'><param name='host_url' value='https%3A%2F%2Fpublic.tableau.com%2F' /> <param name='embed_code_version' value='3' /> <param name='site_root' value='' /><param name='name' value='comparemaxandminpriceacrossdistricts&#47;Dashboard4' /><param name='tabs' value='no' /><param name='toolbar' value='yes' /><param name='static_image' value='https:&#47;&#47;public.tableau.com&#47;static&#47;images&#47;co&#47;comparemaxandminpriceacrossdistricts&#47;Dashboard4&#47;1.png' /> <param name='animate_transition' value='yes' /><param name='display_static_image' value='yes' /><param name='display_spinner' value='yes' /><param name='display_overlay' value='yes' /><param name='display_count' value='yes' /><param name='language' value='en-US' /></object></div>                <script type='text/javascript'>                    var divElement = document.getElementById('viz1711720602141');                    var vizElement = divElement.getElementsByTagName('object')[0];                    if ( divElement.offsetWidth > 800 ) { vizElement.style.width='100%';vizElement.style.height=(divElement.offsetWidth*0.75)+'px';} else if ( divElement.offsetWidth > 500 ) { vizElement.style.width='100%';vizElement.style.height=(divElement.offsetWidth*0.75)+'px';} else { vizElement.style.width='100%';vizElement.style.height='777px';}                     var scriptElement = document.createElement('script');                    scriptElement.src = 'https://public.tableau.com/javascripts/api/viz_v1.js';                    vizElement.parentNode.insertBefore(scriptElement, vizElement);                </script>"
   ]
  },
  {
   "cell_type": "code",
   "execution_count": 47,
   "id": "01c31b2d",
   "metadata": {},
   "outputs": [
    {
     "data": {
      "text/html": [
       "<div class='tableauPlaceholder' id='viz1711721619027' style='position: relative'><noscript><a href='#'><img alt='Average Price Of Commodities across Markets ' src='https:&#47;&#47;public.tableau.com&#47;static&#47;images&#47;Av&#47;Averagepriceofcommoditiesacrossmarkets&#47;Sheet8&#47;1_rss.png' style='border: none' /></a></noscript><object class='tableauViz'  style='display:none;'><param name='host_url' value='https%3A%2F%2Fpublic.tableau.com%2F' /> <param name='embed_code_version' value='3' /> <param name='site_root' value='' /><param name='name' value='Averagepriceofcommoditiesacrossmarkets&#47;Sheet8' /><param name='tabs' value='no' /><param name='toolbar' value='yes' /><param name='static_image' value='https:&#47;&#47;public.tableau.com&#47;static&#47;images&#47;Av&#47;Averagepriceofcommoditiesacrossmarkets&#47;Sheet8&#47;1.png' /> <param name='animate_transition' value='yes' /><param name='display_static_image' value='yes' /><param name='display_spinner' value='yes' /><param name='display_overlay' value='yes' /><param name='display_count' value='yes' /><param name='language' value='en-US' /></object></div>                <script type='text/javascript'>                    var divElement = document.getElementById('viz1711721619027');                    var vizElement = divElement.getElementsByTagName('object')[0];                    vizElement.style.width='100%';vizElement.style.height=(divElement.offsetWidth*0.75)+'px';                    var scriptElement = document.createElement('script');                    scriptElement.src = 'https://public.tableau.com/javascripts/api/viz_v1.js';                    vizElement.parentNode.insertBefore(scriptElement, vizElement);                </script>\n"
      ],
      "text/plain": [
       "<IPython.core.display.HTML object>"
      ]
     },
     "metadata": {},
     "output_type": "display_data"
    }
   ],
   "source": [
    "%%html\n",
    "<div class='tableauPlaceholder' id='viz1711721619027' style='position: relative'><noscript><a href='#'><img alt='Average Price Of Commodities across Markets ' src='https:&#47;&#47;public.tableau.com&#47;static&#47;images&#47;Av&#47;Averagepriceofcommoditiesacrossmarkets&#47;Sheet8&#47;1_rss.png' style='border: none' /></a></noscript><object class='tableauViz'  style='display:none;'><param name='host_url' value='https%3A%2F%2Fpublic.tableau.com%2F' /> <param name='embed_code_version' value='3' /> <param name='site_root' value='' /><param name='name' value='Averagepriceofcommoditiesacrossmarkets&#47;Sheet8' /><param name='tabs' value='no' /><param name='toolbar' value='yes' /><param name='static_image' value='https:&#47;&#47;public.tableau.com&#47;static&#47;images&#47;Av&#47;Averagepriceofcommoditiesacrossmarkets&#47;Sheet8&#47;1.png' /> <param name='animate_transition' value='yes' /><param name='display_static_image' value='yes' /><param name='display_spinner' value='yes' /><param name='display_overlay' value='yes' /><param name='display_count' value='yes' /><param name='language' value='en-US' /></object></div>                <script type='text/javascript'>                    var divElement = document.getElementById('viz1711721619027');                    var vizElement = divElement.getElementsByTagName('object')[0];                    vizElement.style.width='100%';vizElement.style.height=(divElement.offsetWidth*0.75)+'px';                    var scriptElement = document.createElement('script');                    scriptElement.src = 'https://public.tableau.com/javascripts/api/viz_v1.js';                    vizElement.parentNode.insertBefore(scriptElement, vizElement);                </script>"
   ]
  },
  {
   "cell_type": "code",
   "execution_count": 49,
   "id": "260b956c",
   "metadata": {},
   "outputs": [
    {
     "name": "stdout",
     "output_type": "stream",
     "text": [
      "Correlation between Production Quantity and Max Price: 0.06614034031600141\n"
     ]
    }
   ],
   "source": [
    "#Weak Correlation: Since the coefficient is close to zero, \n",
    "#there is statistically no linear relationship between the maximum price of a commodity and \n",
    "#the amount produced. In other words \n",
    "#changes in production quantity don't seem to directly cause significant changes in the maximum price according to this data.\n",
    "import pandas as pd\n",
    "\n",
    "# Assuming df is your DataFrame containing the dataset\n",
    "\n",
    "# Calculate the correlation between 'production_quantity' and 'max_price'\n",
    "correlation = df['production_quantity'].corr(df['max_price'])\n",
    "\n",
    "print(\"Correlation between Production Quantity and Max Price:\", correlation)"
   ]
  },
  {
   "cell_type": "code",
   "execution_count": 51,
   "id": "656661c2",
   "metadata": {},
   "outputs": [
    {
     "name": "stdout",
     "output_type": "stream",
     "text": [
      "Correlation between minimum price and production quantity: 0.06715419856248442\n"
     ]
    }
   ],
   "source": [
    "#Weak Correlation: Since the coefficient is close to zero, \n",
    "#there is statistically no linear relationship between the minimum price of a commodity and \n",
    "#the amount produced. In other words \n",
    "#changes in production quantity don't seem to directly cause significant changes in the minimum price according to this data.\n",
    "import pandas as pd\n",
    "\n",
    "# Assuming your data is loaded into a pandas dataframe called 'df'\n",
    "\n",
    "# Calculate the correlation coefficient\n",
    "correlation = df['min_price'].corr(df['production_quantity'])\n",
    "\n",
    "print(\"Correlation between minimum price and production quantity:\", correlation)"
   ]
  },
  {
   "cell_type": "code",
   "execution_count": 53,
   "id": "56c64c9f",
   "metadata": {},
   "outputs": [
    {
     "name": "stdout",
     "output_type": "stream",
     "text": [
      "T-test result: TtestResult(statistic=-0.8714716681917937, pvalue=0.3835448731762434, df=4340.0)\n"
     ]
    }
   ],
   "source": [
    "#Statistical Comparison of Modal Prices between Certified and Non-Certified Commodities\n",
    "#Perform statistical testing to compare prices between different certification groups\n",
    "\n",
    "# Example:\n",
    "from scipy import stats\n",
    "result = stats.ttest_ind(df[df['certifications'] == 'CERTIFIED']['modal_price'],\n",
    "                         df[df['certifications'] != 'CERTIFIED']['modal_price'])\n",
    "print(\"T-test result:\", result)"
   ]
  },
  {
   "cell_type": "code",
   "execution_count": 55,
   "id": "3f735c13",
   "metadata": {},
   "outputs": [
    {
     "name": "stdout",
     "output_type": "stream",
     "text": [
      "T-test result comparing modal prices of CERTIFIED and ORGANIC commodities:\n",
      "T-statistic: -0.4526180830646959\n",
      "P-value: 0.650869020690884\n"
     ]
    }
   ],
   "source": [
    "#Comparision of Average Prices between Certified and Organic Commodities\n",
    "from scipy import stats\n",
    "\n",
    "# Extract modal prices for commodities with the \"CERTIFIED\" certification\n",
    "modal_price_certified = df[df['certifications'] == 'CERTIFIED']['modal_price']\n",
    "\n",
    "# Extract modal prices for commodities with the \"ORGANIC\" certification\n",
    "modal_price_organic = df[df['certifications'] == 'ORGANIC']['modal_price']\n",
    "\n",
    "# Perform independent t-test\n",
    "result = stats.ttest_ind(modal_price_certified, modal_price_organic)\n",
    "\n",
    "print(\"T-test result comparing modal prices of CERTIFIED and ORGANIC commodities:\")\n",
    "print(\"T-statistic:\", result.statistic)\n",
    "print(\"P-value:\", result.pvalue)"
   ]
  },
  {
   "cell_type": "code",
   "execution_count": 57,
   "id": "898ee064",
   "metadata": {},
   "outputs": [
    {
     "data": {
      "text/html": [
       "<div class='tableauPlaceholder' id='viz1711727589608' style='position: relative'><noscript><a href='#'><img alt='Distribution of Commodities by Certifications ' src='https:&#47;&#47;public.tableau.com&#47;static&#47;images&#47;Di&#47;DistributionofCommoditiesbyCertifications&#47;Sheet10&#47;1_rss.png' style='border: none' /></a></noscript><object class='tableauViz'  style='display:none;'><param name='host_url' value='https%3A%2F%2Fpublic.tableau.com%2F' /> <param name='embed_code_version' value='3' /> <param name='site_root' value='' /><param name='name' value='DistributionofCommoditiesbyCertifications&#47;Sheet10' /><param name='tabs' value='no' /><param name='toolbar' value='yes' /><param name='static_image' value='https:&#47;&#47;public.tableau.com&#47;static&#47;images&#47;Di&#47;DistributionofCommoditiesbyCertifications&#47;Sheet10&#47;1.png' /> <param name='animate_transition' value='yes' /><param name='display_static_image' value='yes' /><param name='display_spinner' value='yes' /><param name='display_overlay' value='yes' /><param name='display_count' value='yes' /><param name='language' value='en-US' /><param name='filter' value='publish=yes' /></object></div>                <script type='text/javascript'>                    var divElement = document.getElementById('viz1711727589608');                    var vizElement = divElement.getElementsByTagName('object')[0];                    vizElement.style.width='100%';vizElement.style.height=(divElement.offsetWidth*0.75)+'px';                    var scriptElement = document.createElement('script');                    scriptElement.src = 'https://public.tableau.com/javascripts/api/viz_v1.js';                    vizElement.parentNode.insertBefore(scriptElement, vizElement);                </script>\n"
      ],
      "text/plain": [
       "<IPython.core.display.HTML object>"
      ]
     },
     "metadata": {},
     "output_type": "display_data"
    }
   ],
   "source": [
    "%%html\n",
    "<div class='tableauPlaceholder' id='viz1711727589608' style='position: relative'><noscript><a href='#'><img alt='Distribution of Commodities by Certifications ' src='https:&#47;&#47;public.tableau.com&#47;static&#47;images&#47;Di&#47;DistributionofCommoditiesbyCertifications&#47;Sheet10&#47;1_rss.png' style='border: none' /></a></noscript><object class='tableauViz'  style='display:none;'><param name='host_url' value='https%3A%2F%2Fpublic.tableau.com%2F' /> <param name='embed_code_version' value='3' /> <param name='site_root' value='' /><param name='name' value='DistributionofCommoditiesbyCertifications&#47;Sheet10' /><param name='tabs' value='no' /><param name='toolbar' value='yes' /><param name='static_image' value='https:&#47;&#47;public.tableau.com&#47;static&#47;images&#47;Di&#47;DistributionofCommoditiesbyCertifications&#47;Sheet10&#47;1.png' /> <param name='animate_transition' value='yes' /><param name='display_static_image' value='yes' /><param name='display_spinner' value='yes' /><param name='display_overlay' value='yes' /><param name='display_count' value='yes' /><param name='language' value='en-US' /><param name='filter' value='publish=yes' /></object></div>                <script type='text/javascript'>                    var divElement = document.getElementById('viz1711727589608');                    var vizElement = divElement.getElementsByTagName('object')[0];                    vizElement.style.width='100%';vizElement.style.height=(divElement.offsetWidth*0.75)+'px';                    var scriptElement = document.createElement('script');                    scriptElement.src = 'https://public.tableau.com/javascripts/api/viz_v1.js';                    vizElement.parentNode.insertBefore(scriptElement, vizElement);                </script>"
   ]
  },
  {
   "cell_type": "code",
   "execution_count": 59,
   "id": "ba94b12a",
   "metadata": {},
   "outputs": [
    {
     "data": {
      "text/html": [
       "<div class='tableauPlaceholder' id='viz1711728667388' style='position: relative'><noscript><a href='#'><img alt='Percentage Distribution of Commodities by Certification Across States ' src='https:&#47;&#47;public.tableau.com&#47;static&#47;images&#47;Pe&#47;PercentageDistributionofCommoditiesbyCertificationAcrossStates&#47;Sheet102&#47;1_rss.png' style='border: none' /></a></noscript><object class='tableauViz'  style='display:none;'><param name='host_url' value='https%3A%2F%2Fpublic.tableau.com%2F' /> <param name='embed_code_version' value='3' /> <param name='site_root' value='' /><param name='name' value='PercentageDistributionofCommoditiesbyCertificationAcrossStates&#47;Sheet102' /><param name='tabs' value='no' /><param name='toolbar' value='yes' /><param name='static_image' value='https:&#47;&#47;public.tableau.com&#47;static&#47;images&#47;Pe&#47;PercentageDistributionofCommoditiesbyCertificationAcrossStates&#47;Sheet102&#47;1.png' /> <param name='animate_transition' value='yes' /><param name='display_static_image' value='yes' /><param name='display_spinner' value='yes' /><param name='display_overlay' value='yes' /><param name='display_count' value='yes' /><param name='language' value='en-US' /><param name='filter' value='publish=yes' /></object></div>                <script type='text/javascript'>                    var divElement = document.getElementById('viz1711728667388');                    var vizElement = divElement.getElementsByTagName('object')[0];                    vizElement.style.width='100%';vizElement.style.height=(divElement.offsetWidth*0.75)+'px';                    var scriptElement = document.createElement('script');                    scriptElement.src = 'https://public.tableau.com/javascripts/api/viz_v1.js';                    vizElement.parentNode.insertBefore(scriptElement, vizElement);                </script>\n"
      ],
      "text/plain": [
       "<IPython.core.display.HTML object>"
      ]
     },
     "metadata": {},
     "output_type": "display_data"
    }
   ],
   "source": [
    "%%html\n",
    "<div class='tableauPlaceholder' id='viz1711728667388' style='position: relative'><noscript><a href='#'><img alt='Percentage Distribution of Commodities by Certification Across States ' src='https:&#47;&#47;public.tableau.com&#47;static&#47;images&#47;Pe&#47;PercentageDistributionofCommoditiesbyCertificationAcrossStates&#47;Sheet102&#47;1_rss.png' style='border: none' /></a></noscript><object class='tableauViz'  style='display:none;'><param name='host_url' value='https%3A%2F%2Fpublic.tableau.com%2F' /> <param name='embed_code_version' value='3' /> <param name='site_root' value='' /><param name='name' value='PercentageDistributionofCommoditiesbyCertificationAcrossStates&#47;Sheet102' /><param name='tabs' value='no' /><param name='toolbar' value='yes' /><param name='static_image' value='https:&#47;&#47;public.tableau.com&#47;static&#47;images&#47;Pe&#47;PercentageDistributionofCommoditiesbyCertificationAcrossStates&#47;Sheet102&#47;1.png' /> <param name='animate_transition' value='yes' /><param name='display_static_image' value='yes' /><param name='display_spinner' value='yes' /><param name='display_overlay' value='yes' /><param name='display_count' value='yes' /><param name='language' value='en-US' /><param name='filter' value='publish=yes' /></object></div>                <script type='text/javascript'>                    var divElement = document.getElementById('viz1711728667388');                    var vizElement = divElement.getElementsByTagName('object')[0];                    vizElement.style.width='100%';vizElement.style.height=(divElement.offsetWidth*0.75)+'px';                    var scriptElement = document.createElement('script');                    scriptElement.src = 'https://public.tableau.com/javascripts/api/viz_v1.js';                    vizElement.parentNode.insertBefore(scriptElement, vizElement);                </script>"
   ]
  },
  {
   "cell_type": "code",
   "execution_count": 61,
   "id": "8f20a118",
   "metadata": {
    "scrolled": true
   },
   "outputs": [
    {
     "data": {
      "text/html": [
       "<div class='tableauPlaceholder' id='viz1711731157134' style='position: relative'><noscript><a href='#'><img alt='Which Commodities are Certified,Organic, NON-GMO and GMO in Each State ' src='https:&#47;&#47;public.tableau.com&#47;static&#47;images&#47;Wh&#47;WhichCommoditiesareCertifiedOrganicNON-GMOandGMOinEachState&#47;Dashboard6&#47;1_rss.png' style='border: none' /></a></noscript><object class='tableauViz'  style='display:none;'><param name='host_url' value='https%3A%2F%2Fpublic.tableau.com%2F' /> <param name='embed_code_version' value='3' /> <param name='site_root' value='' /><param name='name' value='WhichCommoditiesareCertifiedOrganicNON-GMOandGMOinEachState&#47;Dashboard6' /><param name='tabs' value='no' /><param name='toolbar' value='yes' /><param name='static_image' value='https:&#47;&#47;public.tableau.com&#47;static&#47;images&#47;Wh&#47;WhichCommoditiesareCertifiedOrganicNON-GMOandGMOinEachState&#47;Dashboard6&#47;1.png' /> <param name='animate_transition' value='yes' /><param name='display_static_image' value='yes' /><param name='display_spinner' value='yes' /><param name='display_overlay' value='yes' /><param name='display_count' value='yes' /><param name='language' value='en-US' /><param name='filter' value='publish=yes' /></object></div>                <script type='text/javascript'>                    var divElement = document.getElementById('viz1711731157134');                    var vizElement = divElement.getElementsByTagName('object')[0];                    if ( divElement.offsetWidth > 800 ) { vizElement.style.width='100%';vizElement.style.height=(divElement.offsetWidth*0.75)+'px';} else if ( divElement.offsetWidth > 500 ) { vizElement.style.width='100%';vizElement.style.height=(divElement.offsetWidth*0.75)+'px';} else { vizElement.style.width='100%';vizElement.style.height='1327px';}                     var scriptElement = document.createElement('script');                    scriptElement.src = 'https://public.tableau.com/javascripts/api/viz_v1.js';                    vizElement.parentNode.insertBefore(scriptElement, vizElement);                </script>\n"
      ],
      "text/plain": [
       "<IPython.core.display.HTML object>"
      ]
     },
     "metadata": {},
     "output_type": "display_data"
    }
   ],
   "source": [
    "%%html\n",
    "<div class='tableauPlaceholder' id='viz1711731157134' style='position: relative'><noscript><a href='#'><img alt='Which Commodities are Certified,Organic, NON-GMO and GMO in Each State ' src='https:&#47;&#47;public.tableau.com&#47;static&#47;images&#47;Wh&#47;WhichCommoditiesareCertifiedOrganicNON-GMOandGMOinEachState&#47;Dashboard6&#47;1_rss.png' style='border: none' /></a></noscript><object class='tableauViz'  style='display:none;'><param name='host_url' value='https%3A%2F%2Fpublic.tableau.com%2F' /> <param name='embed_code_version' value='3' /> <param name='site_root' value='' /><param name='name' value='WhichCommoditiesareCertifiedOrganicNON-GMOandGMOinEachState&#47;Dashboard6' /><param name='tabs' value='no' /><param name='toolbar' value='yes' /><param name='static_image' value='https:&#47;&#47;public.tableau.com&#47;static&#47;images&#47;Wh&#47;WhichCommoditiesareCertifiedOrganicNON-GMOandGMOinEachState&#47;Dashboard6&#47;1.png' /> <param name='animate_transition' value='yes' /><param name='display_static_image' value='yes' /><param name='display_spinner' value='yes' /><param name='display_overlay' value='yes' /><param name='display_count' value='yes' /><param name='language' value='en-US' /><param name='filter' value='publish=yes' /></object></div>                <script type='text/javascript'>                    var divElement = document.getElementById('viz1711731157134');                    var vizElement = divElement.getElementsByTagName('object')[0];                    if ( divElement.offsetWidth > 800 ) { vizElement.style.width='100%';vizElement.style.height=(divElement.offsetWidth*0.75)+'px';} else if ( divElement.offsetWidth > 500 ) { vizElement.style.width='100%';vizElement.style.height=(divElement.offsetWidth*0.75)+'px';} else { vizElement.style.width='100%';vizElement.style.height='1327px';}                     var scriptElement = document.createElement('script');                    scriptElement.src = 'https://public.tableau.com/javascripts/api/viz_v1.js';                    vizElement.parentNode.insertBefore(scriptElement, vizElement);                </script>"
   ]
  },
  {
   "cell_type": "code",
   "execution_count": 63,
   "id": "1a011883",
   "metadata": {},
   "outputs": [
    {
     "name": "stdout",
     "output_type": "stream",
     "text": [
      "State with the highest maximum price for Ajwan: Gujarat\n",
      "Maximum price for Ajwan in this state: 170.0 rs\n"
     ]
    }
   ],
   "source": [
    "#Which State has the Highest maximum price among all States for a Commodity\n",
    "import pandas as pd\n",
    "\n",
    "# Assuming your DataFrame is named df and contains columns 'state', 'commodity_name', and 'max_price'\n",
    "\n",
    "# Specify the commodity name\n",
    "commodity_name = 'Ajwan'\n",
    "\n",
    "# Filter the DataFrame for entries where commodity is the specified commodity name\n",
    "commodity_prices = df[df['commodity_name'] == commodity_name]\n",
    "\n",
    "# Check if the DataFrame is not empty\n",
    "if not commodity_prices.empty:\n",
    "    # Find the state with the highest maximum price for the specified commodity\n",
    "    state_highest_max_price = commodity_prices.loc[commodity_prices['max_price'].idxmax()]['state']\n",
    "    max_price = commodity_prices.loc[commodity_prices['max_price'].idxmax()]['max_price']\n",
    "    print(f\"State with the highest maximum price for {commodity_name}:\", state_highest_max_price)\n",
    "    print(f\"Maximum price for {commodity_name} in this state:\", max_price,\"rs\")\n",
    "else:\n",
    "    print(f\"No entries found for {commodity_name} in the dataset.\")"
   ]
  },
  {
   "cell_type": "code",
   "execution_count": 65,
   "id": "5ced8a0b",
   "metadata": {},
   "outputs": [
    {
     "name": "stdout",
     "output_type": "stream",
     "text": [
      "State with the highest minimum price for Ajwan: Rajasthan\n",
      "Minimum price for Ajwan in this state: 7.85 rs\n"
     ]
    }
   ],
   "source": [
    "#Which State has the Highest maximum price among all States for a Commodity\n",
    "import pandas as pd\n",
    "\n",
    "# Assuming your DataFrame is named df and contains columns 'state', 'commodity_name', and 'min_price'\n",
    "\n",
    "# Specify the commodity name\n",
    "commodity_name = 'Ajwan'\n",
    "\n",
    "# Filter the DataFrame for entries where commodity is the specified commodity name\n",
    "commodity_prices = df[df['commodity_name'] == commodity_name]\n",
    "\n",
    "# Check if the DataFrame is not empty\n",
    "if not commodity_prices.empty:\n",
    "    # Find the state with the highest minimum price for the specified commodity\n",
    "    state_highest_min_price = commodity_prices.loc[commodity_prices['min_price'].idxmin()]\n",
    "    print(f\"State with the highest minimum price for {commodity_name}:\", state_highest_min_price['state'])\n",
    "    print(f\"Minimum price for {commodity_name} in this state:\", state_highest_min_price['min_price'],\"rs\")\n",
    "else:\n",
    "    print(f\"No entries found for {commodity_name} in the dataset.\")"
   ]
  },
  {
   "cell_type": "code",
   "execution_count": 67,
   "id": "a7f933ac",
   "metadata": {},
   "outputs": [
    {
     "data": {
      "text/html": [
       "<div class='tableauPlaceholder' id='viz1711785056716' style='position: relative'><noscript><a href='#'><img alt='Top 10 Commodities based on Average Prices in all States ' src='https:&#47;&#47;public.tableau.com&#47;static&#47;images&#47;Wh&#47;WhichCommoditiesareCertifiedOrganicNON-GMOandGMOinEachState&#47;Sheet18&#47;1_rss.png' style='border: none' /></a></noscript><object class='tableauViz'  style='display:none;'><param name='host_url' value='https%3A%2F%2Fpublic.tableau.com%2F' /> <param name='embed_code_version' value='3' /> <param name='site_root' value='' /><param name='name' value='WhichCommoditiesareCertifiedOrganicNON-GMOandGMOinEachState&#47;Sheet18' /><param name='tabs' value='no' /><param name='toolbar' value='yes' /><param name='static_image' value='https:&#47;&#47;public.tableau.com&#47;static&#47;images&#47;Wh&#47;WhichCommoditiesareCertifiedOrganicNON-GMOandGMOinEachState&#47;Sheet18&#47;1.png' /> <param name='animate_transition' value='yes' /><param name='display_static_image' value='yes' /><param name='display_spinner' value='yes' /><param name='display_overlay' value='yes' /><param name='display_count' value='yes' /><param name='language' value='en-US' /><param name='filter' value='publish=yes' /></object></div>                <script type='text/javascript'>                    var divElement = document.getElementById('viz1711785056716');                    var vizElement = divElement.getElementsByTagName('object')[0];                    vizElement.style.width='100%';vizElement.style.height=(divElement.offsetWidth*0.75)+'px';                    var scriptElement = document.createElement('script');                    scriptElement.src = 'https://public.tableau.com/javascripts/api/viz_v1.js';                    vizElement.parentNode.insertBefore(scriptElement, vizElement);                </script>\n"
      ],
      "text/plain": [
       "<IPython.core.display.HTML object>"
      ]
     },
     "metadata": {},
     "output_type": "display_data"
    }
   ],
   "source": [
    "%%html\n",
    "<div class='tableauPlaceholder' id='viz1711785056716' style='position: relative'><noscript><a href='#'><img alt='Top 10 Commodities based on Average Prices in all States ' src='https:&#47;&#47;public.tableau.com&#47;static&#47;images&#47;Wh&#47;WhichCommoditiesareCertifiedOrganicNON-GMOandGMOinEachState&#47;Sheet18&#47;1_rss.png' style='border: none' /></a></noscript><object class='tableauViz'  style='display:none;'><param name='host_url' value='https%3A%2F%2Fpublic.tableau.com%2F' /> <param name='embed_code_version' value='3' /> <param name='site_root' value='' /><param name='name' value='WhichCommoditiesareCertifiedOrganicNON-GMOandGMOinEachState&#47;Sheet18' /><param name='tabs' value='no' /><param name='toolbar' value='yes' /><param name='static_image' value='https:&#47;&#47;public.tableau.com&#47;static&#47;images&#47;Wh&#47;WhichCommoditiesareCertifiedOrganicNON-GMOandGMOinEachState&#47;Sheet18&#47;1.png' /> <param name='animate_transition' value='yes' /><param name='display_static_image' value='yes' /><param name='display_spinner' value='yes' /><param name='display_overlay' value='yes' /><param name='display_count' value='yes' /><param name='language' value='en-US' /><param name='filter' value='publish=yes' /></object></div>                <script type='text/javascript'>                    var divElement = document.getElementById('viz1711785056716');                    var vizElement = divElement.getElementsByTagName('object')[0];                    vizElement.style.width='100%';vizElement.style.height=(divElement.offsetWidth*0.75)+'px';                    var scriptElement = document.createElement('script');                    scriptElement.src = 'https://public.tableau.com/javascripts/api/viz_v1.js';                    vizElement.parentNode.insertBefore(scriptElement, vizElement);                </script>"
   ]
  },
  {
   "cell_type": "code",
   "execution_count": 69,
   "id": "ee6795e0",
   "metadata": {},
   "outputs": [
    {
     "data": {
      "text/html": [
       "<div class='tableauPlaceholder' id='viz1711785185360' style='position: relative'><noscript><a href='#'><img alt='Compare Average, Minimum and Maximum Prices Across Markets ' src='https:&#47;&#47;public.tableau.com&#47;static&#47;images&#47;Co&#47;CompareAverageMinimumandMaximumPricesAcrossMarkets&#47;Sheet19&#47;1_rss.png' style='border: none' /></a></noscript><object class='tableauViz'  style='display:none;'><param name='host_url' value='https%3A%2F%2Fpublic.tableau.com%2F' /> <param name='embed_code_version' value='3' /> <param name='site_root' value='' /><param name='name' value='CompareAverageMinimumandMaximumPricesAcrossMarkets&#47;Sheet19' /><param name='tabs' value='no' /><param name='toolbar' value='yes' /><param name='static_image' value='https:&#47;&#47;public.tableau.com&#47;static&#47;images&#47;Co&#47;CompareAverageMinimumandMaximumPricesAcrossMarkets&#47;Sheet19&#47;1.png' /> <param name='animate_transition' value='yes' /><param name='display_static_image' value='yes' /><param name='display_spinner' value='yes' /><param name='display_overlay' value='yes' /><param name='display_count' value='yes' /><param name='language' value='en-US' /><param name='filter' value='publish=yes' /></object></div>                <script type='text/javascript'>                    var divElement = document.getElementById('viz1711785185360');                    var vizElement = divElement.getElementsByTagName('object')[0];                    vizElement.style.width='100%';vizElement.style.height=(divElement.offsetWidth*0.75)+'px';                    var scriptElement = document.createElement('script');                    scriptElement.src = 'https://public.tableau.com/javascripts/api/viz_v1.js';                    vizElement.parentNode.insertBefore(scriptElement, vizElement);                </script>\n"
      ],
      "text/plain": [
       "<IPython.core.display.HTML object>"
      ]
     },
     "metadata": {},
     "output_type": "display_data"
    }
   ],
   "source": [
    "%%html\n",
    "<div class='tableauPlaceholder' id='viz1711785185360' style='position: relative'><noscript><a href='#'><img alt='Compare Average, Minimum and Maximum Prices Across Markets ' src='https:&#47;&#47;public.tableau.com&#47;static&#47;images&#47;Co&#47;CompareAverageMinimumandMaximumPricesAcrossMarkets&#47;Sheet19&#47;1_rss.png' style='border: none' /></a></noscript><object class='tableauViz'  style='display:none;'><param name='host_url' value='https%3A%2F%2Fpublic.tableau.com%2F' /> <param name='embed_code_version' value='3' /> <param name='site_root' value='' /><param name='name' value='CompareAverageMinimumandMaximumPricesAcrossMarkets&#47;Sheet19' /><param name='tabs' value='no' /><param name='toolbar' value='yes' /><param name='static_image' value='https:&#47;&#47;public.tableau.com&#47;static&#47;images&#47;Co&#47;CompareAverageMinimumandMaximumPricesAcrossMarkets&#47;Sheet19&#47;1.png' /> <param name='animate_transition' value='yes' /><param name='display_static_image' value='yes' /><param name='display_spinner' value='yes' /><param name='display_overlay' value='yes' /><param name='display_count' value='yes' /><param name='language' value='en-US' /><param name='filter' value='publish=yes' /></object></div>                <script type='text/javascript'>                    var divElement = document.getElementById('viz1711785185360');                    var vizElement = divElement.getElementsByTagName('object')[0];                    vizElement.style.width='100%';vizElement.style.height=(divElement.offsetWidth*0.75)+'px';                    var scriptElement = document.createElement('script');                    scriptElement.src = 'https://public.tableau.com/javascripts/api/viz_v1.js';                    vizElement.parentNode.insertBefore(scriptElement, vizElement);                </script>"
   ]
  },
  {
   "cell_type": "code",
   "execution_count": 71,
   "id": "3d01033a",
   "metadata": {},
   "outputs": [
    {
     "data": {
      "text/html": [
       "<div class='tableauPlaceholder' id='viz1711791249122' style='position: relative'><noscript><a href='#'><img alt='Which States has the Maximum Price for a Commodity? ' src='https:&#47;&#47;public.tableau.com&#47;static&#47;images&#47;Wh&#47;WhichStateshastheMaximumPriceforaCommodity&#47;Sheet21&#47;1_rss.png' style='border: none' /></a></noscript><object class='tableauViz'  style='display:none;'><param name='host_url' value='https%3A%2F%2Fpublic.tableau.com%2F' /> <param name='embed_code_version' value='3' /> <param name='site_root' value='' /><param name='name' value='WhichStateshastheMaximumPriceforaCommodity&#47;Sheet21' /><param name='tabs' value='no' /><param name='toolbar' value='yes' /><param name='static_image' value='https:&#47;&#47;public.tableau.com&#47;static&#47;images&#47;Wh&#47;WhichStateshastheMaximumPriceforaCommodity&#47;Sheet21&#47;1.png' /> <param name='animate_transition' value='yes' /><param name='display_static_image' value='yes' /><param name='display_spinner' value='yes' /><param name='display_overlay' value='yes' /><param name='display_count' value='yes' /><param name='language' value='en-US' /></object></div>                <script type='text/javascript'>                    var divElement = document.getElementById('viz1711791249122');                    var vizElement = divElement.getElementsByTagName('object')[0];                    vizElement.style.width='100%';vizElement.style.height=(divElement.offsetWidth*0.75)+'px';                    var scriptElement = document.createElement('script');                    scriptElement.src = 'https://public.tableau.com/javascripts/api/viz_v1.js';                    vizElement.parentNode.insertBefore(scriptElement, vizElement);                </script>\n"
      ],
      "text/plain": [
       "<IPython.core.display.HTML object>"
      ]
     },
     "metadata": {},
     "output_type": "display_data"
    }
   ],
   "source": [
    "%%html\n",
    "<div class='tableauPlaceholder' id='viz1711791249122' style='position: relative'><noscript><a href='#'><img alt='Which States has the Maximum Price for a Commodity? ' src='https:&#47;&#47;public.tableau.com&#47;static&#47;images&#47;Wh&#47;WhichStateshastheMaximumPriceforaCommodity&#47;Sheet21&#47;1_rss.png' style='border: none' /></a></noscript><object class='tableauViz'  style='display:none;'><param name='host_url' value='https%3A%2F%2Fpublic.tableau.com%2F' /> <param name='embed_code_version' value='3' /> <param name='site_root' value='' /><param name='name' value='WhichStateshastheMaximumPriceforaCommodity&#47;Sheet21' /><param name='tabs' value='no' /><param name='toolbar' value='yes' /><param name='static_image' value='https:&#47;&#47;public.tableau.com&#47;static&#47;images&#47;Wh&#47;WhichStateshastheMaximumPriceforaCommodity&#47;Sheet21&#47;1.png' /> <param name='animate_transition' value='yes' /><param name='display_static_image' value='yes' /><param name='display_spinner' value='yes' /><param name='display_overlay' value='yes' /><param name='display_count' value='yes' /><param name='language' value='en-US' /></object></div>                <script type='text/javascript'>                    var divElement = document.getElementById('viz1711791249122');                    var vizElement = divElement.getElementsByTagName('object')[0];                    vizElement.style.width='100%';vizElement.style.height=(divElement.offsetWidth*0.75)+'px';                    var scriptElement = document.createElement('script');                    scriptElement.src = 'https://public.tableau.com/javascripts/api/viz_v1.js';                    vizElement.parentNode.insertBefore(scriptElement, vizElement);                </script>"
   ]
  },
  {
   "cell_type": "code",
   "execution_count": 73,
   "id": "6dd2d7be",
   "metadata": {},
   "outputs": [
    {
     "data": {
      "text/html": [
       "<div class='tableauPlaceholder' id='viz1711791329774' style='position: relative'><noscript><a href='#'><img alt='Which States has the Minimum Price for a Commodity? ' src='https:&#47;&#47;public.tableau.com&#47;static&#47;images&#47;Wh&#47;WhichStateshastheMinimumPriceforaCommodity&#47;Sheet212&#47;1_rss.png' style='border: none' /></a></noscript><object class='tableauViz'  style='display:none;'><param name='host_url' value='https%3A%2F%2Fpublic.tableau.com%2F' /> <param name='embed_code_version' value='3' /> <param name='site_root' value='' /><param name='name' value='WhichStateshastheMinimumPriceforaCommodity&#47;Sheet212' /><param name='tabs' value='no' /><param name='toolbar' value='yes' /><param name='static_image' value='https:&#47;&#47;public.tableau.com&#47;static&#47;images&#47;Wh&#47;WhichStateshastheMinimumPriceforaCommodity&#47;Sheet212&#47;1.png' /> <param name='animate_transition' value='yes' /><param name='display_static_image' value='yes' /><param name='display_spinner' value='yes' /><param name='display_overlay' value='yes' /><param name='display_count' value='yes' /><param name='language' value='en-US' /></object></div>                <script type='text/javascript'>                    var divElement = document.getElementById('viz1711791329774');                    var vizElement = divElement.getElementsByTagName('object')[0];                    vizElement.style.width='100%';vizElement.style.height=(divElement.offsetWidth*0.75)+'px';                    var scriptElement = document.createElement('script');                    scriptElement.src = 'https://public.tableau.com/javascripts/api/viz_v1.js';                    vizElement.parentNode.insertBefore(scriptElement, vizElement);                </script>\n"
      ],
      "text/plain": [
       "<IPython.core.display.HTML object>"
      ]
     },
     "metadata": {},
     "output_type": "display_data"
    }
   ],
   "source": [
    "%%html\n",
    "<div class='tableauPlaceholder' id='viz1711791329774' style='position: relative'><noscript><a href='#'><img alt='Which States has the Minimum Price for a Commodity? ' src='https:&#47;&#47;public.tableau.com&#47;static&#47;images&#47;Wh&#47;WhichStateshastheMinimumPriceforaCommodity&#47;Sheet212&#47;1_rss.png' style='border: none' /></a></noscript><object class='tableauViz'  style='display:none;'><param name='host_url' value='https%3A%2F%2Fpublic.tableau.com%2F' /> <param name='embed_code_version' value='3' /> <param name='site_root' value='' /><param name='name' value='WhichStateshastheMinimumPriceforaCommodity&#47;Sheet212' /><param name='tabs' value='no' /><param name='toolbar' value='yes' /><param name='static_image' value='https:&#47;&#47;public.tableau.com&#47;static&#47;images&#47;Wh&#47;WhichStateshastheMinimumPriceforaCommodity&#47;Sheet212&#47;1.png' /> <param name='animate_transition' value='yes' /><param name='display_static_image' value='yes' /><param name='display_spinner' value='yes' /><param name='display_overlay' value='yes' /><param name='display_count' value='yes' /><param name='language' value='en-US' /></object></div>                <script type='text/javascript'>                    var divElement = document.getElementById('viz1711791329774');                    var vizElement = divElement.getElementsByTagName('object')[0];                    vizElement.style.width='100%';vizElement.style.height=(divElement.offsetWidth*0.75)+'px';                    var scriptElement = document.createElement('script');                    scriptElement.src = 'https://public.tableau.com/javascripts/api/viz_v1.js';                    vizElement.parentNode.insertBefore(scriptElement, vizElement);                </script>"
   ]
  },
  {
   "cell_type": "code",
   "execution_count": 75,
   "id": "85194a73",
   "metadata": {},
   "outputs": [
    {
     "data": {
      "text/html": [
       "<div class='tableauPlaceholder' id='viz1711792972818' style='position: relative'><noscript><a href='#'><img alt='What is The Total Production Quantity of Commodities in Each States? ' src='https:&#47;&#47;public.tableau.com&#47;static&#47;images&#47;Wh&#47;WhatisTheTotalProductionQuantityofCommoditiesinEachStates&#47;Sheet24&#47;1_rss.png' style='border: none' /></a></noscript><object class='tableauViz'  style='display:none;'><param name='host_url' value='https%3A%2F%2Fpublic.tableau.com%2F' /> <param name='embed_code_version' value='3' /> <param name='site_root' value='' /><param name='name' value='WhatisTheTotalProductionQuantityofCommoditiesinEachStates&#47;Sheet24' /><param name='tabs' value='no' /><param name='toolbar' value='yes' /><param name='static_image' value='https:&#47;&#47;public.tableau.com&#47;static&#47;images&#47;Wh&#47;WhatisTheTotalProductionQuantityofCommoditiesinEachStates&#47;Sheet24&#47;1.png' /> <param name='animate_transition' value='yes' /><param name='display_static_image' value='yes' /><param name='display_spinner' value='yes' /><param name='display_overlay' value='yes' /><param name='display_count' value='yes' /><param name='language' value='en-US' /><param name='filter' value='publish=yes' /></object></div>                <script type='text/javascript'>                    var divElement = document.getElementById('viz1711792972818');                    var vizElement = divElement.getElementsByTagName('object')[0];                    vizElement.style.width='100%';vizElement.style.height=(divElement.offsetWidth*0.75)+'px';                    var scriptElement = document.createElement('script');                    scriptElement.src = 'https://public.tableau.com/javascripts/api/viz_v1.js';                    vizElement.parentNode.insertBefore(scriptElement, vizElement);                </script>\n"
      ],
      "text/plain": [
       "<IPython.core.display.HTML object>"
      ]
     },
     "metadata": {},
     "output_type": "display_data"
    }
   ],
   "source": [
    "%%html\n",
    "<div class='tableauPlaceholder' id='viz1711792972818' style='position: relative'><noscript><a href='#'><img alt='What is The Total Production Quantity of Commodities in Each States? ' src='https:&#47;&#47;public.tableau.com&#47;static&#47;images&#47;Wh&#47;WhatisTheTotalProductionQuantityofCommoditiesinEachStates&#47;Sheet24&#47;1_rss.png' style='border: none' /></a></noscript><object class='tableauViz'  style='display:none;'><param name='host_url' value='https%3A%2F%2Fpublic.tableau.com%2F' /> <param name='embed_code_version' value='3' /> <param name='site_root' value='' /><param name='name' value='WhatisTheTotalProductionQuantityofCommoditiesinEachStates&#47;Sheet24' /><param name='tabs' value='no' /><param name='toolbar' value='yes' /><param name='static_image' value='https:&#47;&#47;public.tableau.com&#47;static&#47;images&#47;Wh&#47;WhatisTheTotalProductionQuantityofCommoditiesinEachStates&#47;Sheet24&#47;1.png' /> <param name='animate_transition' value='yes' /><param name='display_static_image' value='yes' /><param name='display_spinner' value='yes' /><param name='display_overlay' value='yes' /><param name='display_count' value='yes' /><param name='language' value='en-US' /><param name='filter' value='publish=yes' /></object></div>                <script type='text/javascript'>                    var divElement = document.getElementById('viz1711792972818');                    var vizElement = divElement.getElementsByTagName('object')[0];                    vizElement.style.width='100%';vizElement.style.height=(divElement.offsetWidth*0.75)+'px';                    var scriptElement = document.createElement('script');                    scriptElement.src = 'https://public.tableau.com/javascripts/api/viz_v1.js';                    vizElement.parentNode.insertBefore(scriptElement, vizElement);                </script>"
   ]
  },
  {
   "cell_type": "code",
   "execution_count": 77,
   "id": "8d8655b1",
   "metadata": {},
   "outputs": [
    {
     "data": {
      "text/html": [
       "<div class='tableauPlaceholder' id='viz1711793789781' style='position: relative'><noscript><a href='#'><img alt='How Does the Production Quantity of Commodities Vary Across different States in India? ' src='https:&#47;&#47;public.tableau.com&#47;static&#47;images&#47;Ho&#47;HowDoestheProductionQuantityofCommoditiesVaryAcrossdifferentStatesinIndia&#47;Sheet25&#47;1_rss.png' style='border: none' /></a></noscript><object class='tableauViz'  style='display:none;'><param name='host_url' value='https%3A%2F%2Fpublic.tableau.com%2F' /> <param name='embed_code_version' value='3' /> <param name='site_root' value='' /><param name='name' value='HowDoestheProductionQuantityofCommoditiesVaryAcrossdifferentStatesinIndia&#47;Sheet25' /><param name='tabs' value='no' /><param name='toolbar' value='yes' /><param name='static_image' value='https:&#47;&#47;public.tableau.com&#47;static&#47;images&#47;Ho&#47;HowDoestheProductionQuantityofCommoditiesVaryAcrossdifferentStatesinIndia&#47;Sheet25&#47;1.png' /> <param name='animate_transition' value='yes' /><param name='display_static_image' value='yes' /><param name='display_spinner' value='yes' /><param name='display_overlay' value='yes' /><param name='display_count' value='yes' /><param name='language' value='en-US' /></object></div>                <script type='text/javascript'>                    var divElement = document.getElementById('viz1711793789781');                    var vizElement = divElement.getElementsByTagName('object')[0];                    vizElement.style.width='100%';vizElement.style.height=(divElement.offsetWidth*0.75)+'px';                    var scriptElement = document.createElement('script');                    scriptElement.src = 'https://public.tableau.com/javascripts/api/viz_v1.js';                    vizElement.parentNode.insertBefore(scriptElement, vizElement);                </script>\n"
      ],
      "text/plain": [
       "<IPython.core.display.HTML object>"
      ]
     },
     "metadata": {},
     "output_type": "display_data"
    }
   ],
   "source": [
    "%%html\n",
    "<div class='tableauPlaceholder' id='viz1711793789781' style='position: relative'><noscript><a href='#'><img alt='How Does the Production Quantity of Commodities Vary Across different States in India? ' src='https:&#47;&#47;public.tableau.com&#47;static&#47;images&#47;Ho&#47;HowDoestheProductionQuantityofCommoditiesVaryAcrossdifferentStatesinIndia&#47;Sheet25&#47;1_rss.png' style='border: none' /></a></noscript><object class='tableauViz'  style='display:none;'><param name='host_url' value='https%3A%2F%2Fpublic.tableau.com%2F' /> <param name='embed_code_version' value='3' /> <param name='site_root' value='' /><param name='name' value='HowDoestheProductionQuantityofCommoditiesVaryAcrossdifferentStatesinIndia&#47;Sheet25' /><param name='tabs' value='no' /><param name='toolbar' value='yes' /><param name='static_image' value='https:&#47;&#47;public.tableau.com&#47;static&#47;images&#47;Ho&#47;HowDoestheProductionQuantityofCommoditiesVaryAcrossdifferentStatesinIndia&#47;Sheet25&#47;1.png' /> <param name='animate_transition' value='yes' /><param name='display_static_image' value='yes' /><param name='display_spinner' value='yes' /><param name='display_overlay' value='yes' /><param name='display_count' value='yes' /><param name='language' value='en-US' /></object></div>                <script type='text/javascript'>                    var divElement = document.getElementById('viz1711793789781');                    var vizElement = divElement.getElementsByTagName('object')[0];                    vizElement.style.width='100%';vizElement.style.height=(divElement.offsetWidth*0.75)+'px';                    var scriptElement = document.createElement('script');                    scriptElement.src = 'https://public.tableau.com/javascripts/api/viz_v1.js';                    vizElement.parentNode.insertBefore(scriptElement, vizElement);                </script>"
   ]
  },
  {
   "cell_type": "code",
   "execution_count": 79,
   "id": "dd0d5935",
   "metadata": {},
   "outputs": [
    {
     "data": {
      "text/html": [
       "<div class='tableauPlaceholder' id='viz1711794572516' style='position: relative'><noscript><a href='#'><img alt='Which Markets within States Contribute the most to the Overall Production quantity of Commodities? ' src='https:&#47;&#47;public.tableau.com&#47;static&#47;images&#47;Wh&#47;WhichMarketswithinStatesContributethemosttotheOverallProductionquantityofCommodities&#47;Sheet26&#47;1_rss.png' style='border: none' /></a></noscript><object class='tableauViz'  style='display:none;'><param name='host_url' value='https%3A%2F%2Fpublic.tableau.com%2F' /> <param name='embed_code_version' value='3' /> <param name='site_root' value='' /><param name='name' value='WhichMarketswithinStatesContributethemosttotheOverallProductionquantityofCommodities&#47;Sheet26' /><param name='tabs' value='no' /><param name='toolbar' value='yes' /><param name='static_image' value='https:&#47;&#47;public.tableau.com&#47;static&#47;images&#47;Wh&#47;WhichMarketswithinStatesContributethemosttotheOverallProductionquantityofCommodities&#47;Sheet26&#47;1.png' /> <param name='animate_transition' value='yes' /><param name='display_static_image' value='yes' /><param name='display_spinner' value='yes' /><param name='display_overlay' value='yes' /><param name='display_count' value='yes' /><param name='language' value='en-US' /><param name='filter' value='publish=yes' /></object></div>                <script type='text/javascript'>                    var divElement = document.getElementById('viz1711794572516');                    var vizElement = divElement.getElementsByTagName('object')[0];                    vizElement.style.width='100%';vizElement.style.height=(divElement.offsetWidth*0.75)+'px';                    var scriptElement = document.createElement('script');                    scriptElement.src = 'https://public.tableau.com/javascripts/api/viz_v1.js';                    vizElement.parentNode.insertBefore(scriptElement, vizElement);                </script>\n"
      ],
      "text/plain": [
       "<IPython.core.display.HTML object>"
      ]
     },
     "metadata": {},
     "output_type": "display_data"
    }
   ],
   "source": [
    "%%html\n",
    "<div class='tableauPlaceholder' id='viz1711794572516' style='position: relative'><noscript><a href='#'><img alt='Which Markets within States Contribute the most to the Overall Production quantity of Commodities? ' src='https:&#47;&#47;public.tableau.com&#47;static&#47;images&#47;Wh&#47;WhichMarketswithinStatesContributethemosttotheOverallProductionquantityofCommodities&#47;Sheet26&#47;1_rss.png' style='border: none' /></a></noscript><object class='tableauViz'  style='display:none;'><param name='host_url' value='https%3A%2F%2Fpublic.tableau.com%2F' /> <param name='embed_code_version' value='3' /> <param name='site_root' value='' /><param name='name' value='WhichMarketswithinStatesContributethemosttotheOverallProductionquantityofCommodities&#47;Sheet26' /><param name='tabs' value='no' /><param name='toolbar' value='yes' /><param name='static_image' value='https:&#47;&#47;public.tableau.com&#47;static&#47;images&#47;Wh&#47;WhichMarketswithinStatesContributethemosttotheOverallProductionquantityofCommodities&#47;Sheet26&#47;1.png' /> <param name='animate_transition' value='yes' /><param name='display_static_image' value='yes' /><param name='display_spinner' value='yes' /><param name='display_overlay' value='yes' /><param name='display_count' value='yes' /><param name='language' value='en-US' /><param name='filter' value='publish=yes' /></object></div>                <script type='text/javascript'>                    var divElement = document.getElementById('viz1711794572516');                    var vizElement = divElement.getElementsByTagName('object')[0];                    vizElement.style.width='100%';vizElement.style.height=(divElement.offsetWidth*0.75)+'px';                    var scriptElement = document.createElement('script');                    scriptElement.src = 'https://public.tableau.com/javascripts/api/viz_v1.js';                    vizElement.parentNode.insertBefore(scriptElement, vizElement);                </script>"
   ]
  },
  {
   "cell_type": "code",
   "execution_count": 81,
   "id": "d9634d6d",
   "metadata": {},
   "outputs": [
    {
     "data": {
      "text/html": [
       "<div class='tableauPlaceholder' id='viz1711795987444' style='position: relative'><noscript><a href='#'><img alt='Compare Production Quantities of Commodities Within Markets, States and Districts ' src='https:&#47;&#47;public.tableau.com&#47;static&#47;images&#47;Co&#47;CompareProductionQuantitiesofCommoditiesWithinMarketsStatesandDistricts&#47;Dashboard7&#47;1_rss.png' style='border: none' /></a></noscript><object class='tableauViz'  style='display:none;'><param name='host_url' value='https%3A%2F%2Fpublic.tableau.com%2F' /> <param name='embed_code_version' value='3' /> <param name='site_root' value='' /><param name='name' value='CompareProductionQuantitiesofCommoditiesWithinMarketsStatesandDistricts&#47;Dashboard7' /><param name='tabs' value='no' /><param name='toolbar' value='yes' /><param name='static_image' value='https:&#47;&#47;public.tableau.com&#47;static&#47;images&#47;Co&#47;CompareProductionQuantitiesofCommoditiesWithinMarketsStatesandDistricts&#47;Dashboard7&#47;1.png' /> <param name='animate_transition' value='yes' /><param name='display_static_image' value='yes' /><param name='display_spinner' value='yes' /><param name='display_overlay' value='yes' /><param name='display_count' value='yes' /><param name='language' value='en-US' /><param name='filter' value='publish=yes' /></object></div>                <script type='text/javascript'>                    var divElement = document.getElementById('viz1711795987444');                    var vizElement = divElement.getElementsByTagName('object')[0];                    if ( divElement.offsetWidth > 800 ) { vizElement.style.width='100%';vizElement.style.height=(divElement.offsetWidth*0.75)+'px';} else if ( divElement.offsetWidth > 500 ) { vizElement.style.width='100%';vizElement.style.height=(divElement.offsetWidth*0.75)+'px';} else { vizElement.style.width='100%';vizElement.style.height='1177px';}                     var scriptElement = document.createElement('script');                    scriptElement.src = 'https://public.tableau.com/javascripts/api/viz_v1.js';                    vizElement.parentNode.insertBefore(scriptElement, vizElement);                </script>\n"
      ],
      "text/plain": [
       "<IPython.core.display.HTML object>"
      ]
     },
     "metadata": {},
     "output_type": "display_data"
    }
   ],
   "source": [
    "%%html\n",
    "<div class='tableauPlaceholder' id='viz1711795987444' style='position: relative'><noscript><a href='#'><img alt='Compare Production Quantities of Commodities Within Markets, States and Districts ' src='https:&#47;&#47;public.tableau.com&#47;static&#47;images&#47;Co&#47;CompareProductionQuantitiesofCommoditiesWithinMarketsStatesandDistricts&#47;Dashboard7&#47;1_rss.png' style='border: none' /></a></noscript><object class='tableauViz'  style='display:none;'><param name='host_url' value='https%3A%2F%2Fpublic.tableau.com%2F' /> <param name='embed_code_version' value='3' /> <param name='site_root' value='' /><param name='name' value='CompareProductionQuantitiesofCommoditiesWithinMarketsStatesandDistricts&#47;Dashboard7' /><param name='tabs' value='no' /><param name='toolbar' value='yes' /><param name='static_image' value='https:&#47;&#47;public.tableau.com&#47;static&#47;images&#47;Co&#47;CompareProductionQuantitiesofCommoditiesWithinMarketsStatesandDistricts&#47;Dashboard7&#47;1.png' /> <param name='animate_transition' value='yes' /><param name='display_static_image' value='yes' /><param name='display_spinner' value='yes' /><param name='display_overlay' value='yes' /><param name='display_count' value='yes' /><param name='language' value='en-US' /><param name='filter' value='publish=yes' /></object></div>                <script type='text/javascript'>                    var divElement = document.getElementById('viz1711795987444');                    var vizElement = divElement.getElementsByTagName('object')[0];                    if ( divElement.offsetWidth > 800 ) { vizElement.style.width='100%';vizElement.style.height=(divElement.offsetWidth*0.75)+'px';} else if ( divElement.offsetWidth > 500 ) { vizElement.style.width='100%';vizElement.style.height=(divElement.offsetWidth*0.75)+'px';} else { vizElement.style.width='100%';vizElement.style.height='1177px';}                     var scriptElement = document.createElement('script');                    scriptElement.src = 'https://public.tableau.com/javascripts/api/viz_v1.js';                    vizElement.parentNode.insertBefore(scriptElement, vizElement);                </script>"
   ]
  },
  {
   "cell_type": "code",
   "execution_count": 83,
   "id": "1f9754f5",
   "metadata": {},
   "outputs": [
    {
     "data": {
      "text/html": [
       "<div class='tableauPlaceholder' id='viz1711798730705' style='position: relative'><noscript><a href='#'><img alt='Integrating Storage Type Information with Production Quantity Data to Assess Storage Capacity Requirements for Commodities in Various Districts and Markets  ' src='https:&#47;&#47;public.tableau.com&#47;static&#47;images&#47;In&#47;IntegratingStorageTypeInformationwithProductionQuantityDatatoAssessStorageCapacityRequirementsforCommoditiesinVariousDistrictsandMarkets&#47;Sheet28&#47;1_rss.png' style='border: none' /></a></noscript><object class='tableauViz'  style='display:none;'><param name='host_url' value='https%3A%2F%2Fpublic.tableau.com%2F' /> <param name='embed_code_version' value='3' /> <param name='site_root' value='' /><param name='name' value='IntegratingStorageTypeInformationwithProductionQuantityDatatoAssessStorageCapacityRequirementsforCommoditiesinVariousDistrictsandMarkets&#47;Sheet28' /><param name='tabs' value='no' /><param name='toolbar' value='yes' /><param name='static_image' value='https:&#47;&#47;public.tableau.com&#47;static&#47;images&#47;In&#47;IntegratingStorageTypeInformationwithProductionQuantityDatatoAssessStorageCapacityRequirementsforCommoditiesinVariousDistrictsandMarkets&#47;Sheet28&#47;1.png' /> <param name='animate_transition' value='yes' /><param name='display_static_image' value='yes' /><param name='display_spinner' value='yes' /><param name='display_overlay' value='yes' /><param name='display_count' value='yes' /><param name='language' value='en-US' /><param name='filter' value='publish=yes' /></object></div>                <script type='text/javascript'>                    var divElement = document.getElementById('viz1711798730705');                    var vizElement = divElement.getElementsByTagName('object')[0];                    vizElement.style.width='100%';vizElement.style.height=(divElement.offsetWidth*0.75)+'px';                    var scriptElement = document.createElement('script');                    scriptElement.src = 'https://public.tableau.com/javascripts/api/viz_v1.js';                    vizElement.parentNode.insertBefore(scriptElement, vizElement);                </script>\n"
      ],
      "text/plain": [
       "<IPython.core.display.HTML object>"
      ]
     },
     "metadata": {},
     "output_type": "display_data"
    }
   ],
   "source": [
    "%%html\n",
    "<div class='tableauPlaceholder' id='viz1711798730705' style='position: relative'><noscript><a href='#'><img alt='Integrating Storage Type Information with Production Quantity Data to Assess Storage Capacity Requirements for Commodities in Various Districts and Markets  ' src='https:&#47;&#47;public.tableau.com&#47;static&#47;images&#47;In&#47;IntegratingStorageTypeInformationwithProductionQuantityDatatoAssessStorageCapacityRequirementsforCommoditiesinVariousDistrictsandMarkets&#47;Sheet28&#47;1_rss.png' style='border: none' /></a></noscript><object class='tableauViz'  style='display:none;'><param name='host_url' value='https%3A%2F%2Fpublic.tableau.com%2F' /> <param name='embed_code_version' value='3' /> <param name='site_root' value='' /><param name='name' value='IntegratingStorageTypeInformationwithProductionQuantityDatatoAssessStorageCapacityRequirementsforCommoditiesinVariousDistrictsandMarkets&#47;Sheet28' /><param name='tabs' value='no' /><param name='toolbar' value='yes' /><param name='static_image' value='https:&#47;&#47;public.tableau.com&#47;static&#47;images&#47;In&#47;IntegratingStorageTypeInformationwithProductionQuantityDatatoAssessStorageCapacityRequirementsforCommoditiesinVariousDistrictsandMarkets&#47;Sheet28&#47;1.png' /> <param name='animate_transition' value='yes' /><param name='display_static_image' value='yes' /><param name='display_spinner' value='yes' /><param name='display_overlay' value='yes' /><param name='display_count' value='yes' /><param name='language' value='en-US' /><param name='filter' value='publish=yes' /></object></div>                <script type='text/javascript'>                    var divElement = document.getElementById('viz1711798730705');                    var vizElement = divElement.getElementsByTagName('object')[0];                    vizElement.style.width='100%';vizElement.style.height=(divElement.offsetWidth*0.75)+'px';                    var scriptElement = document.createElement('script');                    scriptElement.src = 'https://public.tableau.com/javascripts/api/viz_v1.js';                    vizElement.parentNode.insertBefore(scriptElement, vizElement);                </script>"
   ]
  },
  {
   "cell_type": "code",
   "execution_count": 85,
   "id": "c967a12d",
   "metadata": {},
   "outputs": [
    {
     "data": {
      "text/html": [
       "<div class='tableauPlaceholder' id='viz1711800446872' style='position: relative'><noscript><a href='#'><img alt='What are the Number of Cold, Dry and Warehouse Facilities in each State? ' src='https:&#47;&#47;public.tableau.com&#47;static&#47;images&#47;Wh&#47;WhataretheNumberofColdDryandWarehouseFacilitiesineachState&#47;Sheet31&#47;1_rss.png' style='border: none' /></a></noscript><object class='tableauViz'  style='display:none;'><param name='host_url' value='https%3A%2F%2Fpublic.tableau.com%2F' /> <param name='embed_code_version' value='3' /> <param name='site_root' value='' /><param name='name' value='WhataretheNumberofColdDryandWarehouseFacilitiesineachState&#47;Sheet31' /><param name='tabs' value='no' /><param name='toolbar' value='yes' /><param name='static_image' value='https:&#47;&#47;public.tableau.com&#47;static&#47;images&#47;Wh&#47;WhataretheNumberofColdDryandWarehouseFacilitiesineachState&#47;Sheet31&#47;1.png' /> <param name='animate_transition' value='yes' /><param name='display_static_image' value='yes' /><param name='display_spinner' value='yes' /><param name='display_overlay' value='yes' /><param name='display_count' value='yes' /><param name='language' value='en-US' /><param name='filter' value='publish=yes' /></object></div>                <script type='text/javascript'>                    var divElement = document.getElementById('viz1711800446872');                    var vizElement = divElement.getElementsByTagName('object')[0];                    vizElement.style.width='100%';vizElement.style.height=(divElement.offsetWidth*0.75)+'px';                    var scriptElement = document.createElement('script');                    scriptElement.src = 'https://public.tableau.com/javascripts/api/viz_v1.js';                    vizElement.parentNode.insertBefore(scriptElement, vizElement);                </script>\n"
      ],
      "text/plain": [
       "<IPython.core.display.HTML object>"
      ]
     },
     "metadata": {},
     "output_type": "display_data"
    }
   ],
   "source": [
    "%%html\n",
    "<div class='tableauPlaceholder' id='viz1711800446872' style='position: relative'><noscript><a href='#'><img alt='What are the Number of Cold, Dry and Warehouse Facilities in each State? ' src='https:&#47;&#47;public.tableau.com&#47;static&#47;images&#47;Wh&#47;WhataretheNumberofColdDryandWarehouseFacilitiesineachState&#47;Sheet31&#47;1_rss.png' style='border: none' /></a></noscript><object class='tableauViz'  style='display:none;'><param name='host_url' value='https%3A%2F%2Fpublic.tableau.com%2F' /> <param name='embed_code_version' value='3' /> <param name='site_root' value='' /><param name='name' value='WhataretheNumberofColdDryandWarehouseFacilitiesineachState&#47;Sheet31' /><param name='tabs' value='no' /><param name='toolbar' value='yes' /><param name='static_image' value='https:&#47;&#47;public.tableau.com&#47;static&#47;images&#47;Wh&#47;WhataretheNumberofColdDryandWarehouseFacilitiesineachState&#47;Sheet31&#47;1.png' /> <param name='animate_transition' value='yes' /><param name='display_static_image' value='yes' /><param name='display_spinner' value='yes' /><param name='display_overlay' value='yes' /><param name='display_count' value='yes' /><param name='language' value='en-US' /><param name='filter' value='publish=yes' /></object></div>                <script type='text/javascript'>                    var divElement = document.getElementById('viz1711800446872');                    var vizElement = divElement.getElementsByTagName('object')[0];                    vizElement.style.width='100%';vizElement.style.height=(divElement.offsetWidth*0.75)+'px';                    var scriptElement = document.createElement('script');                    scriptElement.src = 'https://public.tableau.com/javascripts/api/viz_v1.js';                    vizElement.parentNode.insertBefore(scriptElement, vizElement);                </script>"
   ]
  },
  {
   "cell_type": "code",
   "execution_count": 87,
   "id": "77a5c8f0",
   "metadata": {},
   "outputs": [
    {
     "data": {
      "text/html": [
       "<div class='tableauPlaceholder' id='viz1711801059389' style='position: relative'><noscript><a href='#'><img alt='Analysis of Common Storage Types for Commodities Across States ' src='https:&#47;&#47;public.tableau.com&#47;static&#47;images&#47;An&#47;AnalysisofCommonStorageTypesforCommoditiesAcrossStates&#47;Sheet29&#47;1_rss.png' style='border: none' /></a></noscript><object class='tableauViz'  style='display:none;'><param name='host_url' value='https%3A%2F%2Fpublic.tableau.com%2F' /> <param name='embed_code_version' value='3' /> <param name='site_root' value='' /><param name='name' value='AnalysisofCommonStorageTypesforCommoditiesAcrossStates&#47;Sheet29' /><param name='tabs' value='no' /><param name='toolbar' value='yes' /><param name='static_image' value='https:&#47;&#47;public.tableau.com&#47;static&#47;images&#47;An&#47;AnalysisofCommonStorageTypesforCommoditiesAcrossStates&#47;Sheet29&#47;1.png' /> <param name='animate_transition' value='yes' /><param name='display_static_image' value='yes' /><param name='display_spinner' value='yes' /><param name='display_overlay' value='yes' /><param name='display_count' value='yes' /><param name='language' value='en-US' /><param name='filter' value='publish=yes' /></object></div>                <script type='text/javascript'>                    var divElement = document.getElementById('viz1711801059389');                    var vizElement = divElement.getElementsByTagName('object')[0];                    vizElement.style.width='100%';vizElement.style.height=(divElement.offsetWidth*0.75)+'px';                    var scriptElement = document.createElement('script');                    scriptElement.src = 'https://public.tableau.com/javascripts/api/viz_v1.js';                    vizElement.parentNode.insertBefore(scriptElement, vizElement);                </script>\n"
      ],
      "text/plain": [
       "<IPython.core.display.HTML object>"
      ]
     },
     "metadata": {},
     "output_type": "display_data"
    }
   ],
   "source": [
    "%%html\n",
    "<div class='tableauPlaceholder' id='viz1711801059389' style='position: relative'><noscript><a href='#'><img alt='Analysis of Common Storage Types for Commodities Across States ' src='https:&#47;&#47;public.tableau.com&#47;static&#47;images&#47;An&#47;AnalysisofCommonStorageTypesforCommoditiesAcrossStates&#47;Sheet29&#47;1_rss.png' style='border: none' /></a></noscript><object class='tableauViz'  style='display:none;'><param name='host_url' value='https%3A%2F%2Fpublic.tableau.com%2F' /> <param name='embed_code_version' value='3' /> <param name='site_root' value='' /><param name='name' value='AnalysisofCommonStorageTypesforCommoditiesAcrossStates&#47;Sheet29' /><param name='tabs' value='no' /><param name='toolbar' value='yes' /><param name='static_image' value='https:&#47;&#47;public.tableau.com&#47;static&#47;images&#47;An&#47;AnalysisofCommonStorageTypesforCommoditiesAcrossStates&#47;Sheet29&#47;1.png' /> <param name='animate_transition' value='yes' /><param name='display_static_image' value='yes' /><param name='display_spinner' value='yes' /><param name='display_overlay' value='yes' /><param name='display_count' value='yes' /><param name='language' value='en-US' /><param name='filter' value='publish=yes' /></object></div>                <script type='text/javascript'>                    var divElement = document.getElementById('viz1711801059389');                    var vizElement = divElement.getElementsByTagName('object')[0];                    vizElement.style.width='100%';vizElement.style.height=(divElement.offsetWidth*0.75)+'px';                    var scriptElement = document.createElement('script');                    scriptElement.src = 'https://public.tableau.com/javascripts/api/viz_v1.js';                    vizElement.parentNode.insertBefore(scriptElement, vizElement);                </script>"
   ]
  },
  {
   "cell_type": "code",
   "execution_count": 89,
   "id": "cc678566",
   "metadata": {},
   "outputs": [
    {
     "data": {
      "text/html": [
       "<div class='tableauPlaceholder' id='viz1711801608922' style='position: relative'><noscript><a href='#'><img alt='Do certain storage types enhance the export potential of Commodities from State to international markets?  ' src='https:&#47;&#47;public.tableau.com&#47;static&#47;images&#47;Do&#47;DocertainstoragetypesenhancetheexportpotentialofCommoditiesfromStatetointernationalmarkets&#47;Sheet32&#47;1_rss.png' style='border: none' /></a></noscript><object class='tableauViz'  style='display:none;'><param name='host_url' value='https%3A%2F%2Fpublic.tableau.com%2F' /> <param name='embed_code_version' value='3' /> <param name='site_root' value='' /><param name='name' value='DocertainstoragetypesenhancetheexportpotentialofCommoditiesfromStatetointernationalmarkets&#47;Sheet32' /><param name='tabs' value='no' /><param name='toolbar' value='yes' /><param name='static_image' value='https:&#47;&#47;public.tableau.com&#47;static&#47;images&#47;Do&#47;DocertainstoragetypesenhancetheexportpotentialofCommoditiesfromStatetointernationalmarkets&#47;Sheet32&#47;1.png' /> <param name='animate_transition' value='yes' /><param name='display_static_image' value='yes' /><param name='display_spinner' value='yes' /><param name='display_overlay' value='yes' /><param name='display_count' value='yes' /><param name='language' value='en-US' /><param name='filter' value='publish=yes' /></object></div>                <script type='text/javascript'>                    var divElement = document.getElementById('viz1711801608922');                    var vizElement = divElement.getElementsByTagName('object')[0];                    vizElement.style.width='100%';vizElement.style.height=(divElement.offsetWidth*0.75)+'px';                    var scriptElement = document.createElement('script');                    scriptElement.src = 'https://public.tableau.com/javascripts/api/viz_v1.js';                    vizElement.parentNode.insertBefore(scriptElement, vizElement);                </script>\n"
      ],
      "text/plain": [
       "<IPython.core.display.HTML object>"
      ]
     },
     "metadata": {},
     "output_type": "display_data"
    }
   ],
   "source": [
    "%%html\n",
    "<div class='tableauPlaceholder' id='viz1711801608922' style='position: relative'><noscript><a href='#'><img alt='Do certain storage types enhance the export potential of Commodities from State to international markets?  ' src='https:&#47;&#47;public.tableau.com&#47;static&#47;images&#47;Do&#47;DocertainstoragetypesenhancetheexportpotentialofCommoditiesfromStatetointernationalmarkets&#47;Sheet32&#47;1_rss.png' style='border: none' /></a></noscript><object class='tableauViz'  style='display:none;'><param name='host_url' value='https%3A%2F%2Fpublic.tableau.com%2F' /> <param name='embed_code_version' value='3' /> <param name='site_root' value='' /><param name='name' value='DocertainstoragetypesenhancetheexportpotentialofCommoditiesfromStatetointernationalmarkets&#47;Sheet32' /><param name='tabs' value='no' /><param name='toolbar' value='yes' /><param name='static_image' value='https:&#47;&#47;public.tableau.com&#47;static&#47;images&#47;Do&#47;DocertainstoragetypesenhancetheexportpotentialofCommoditiesfromStatetointernationalmarkets&#47;Sheet32&#47;1.png' /> <param name='animate_transition' value='yes' /><param name='display_static_image' value='yes' /><param name='display_spinner' value='yes' /><param name='display_overlay' value='yes' /><param name='display_count' value='yes' /><param name='language' value='en-US' /><param name='filter' value='publish=yes' /></object></div>                <script type='text/javascript'>                    var divElement = document.getElementById('viz1711801608922');                    var vizElement = divElement.getElementsByTagName('object')[0];                    vizElement.style.width='100%';vizElement.style.height=(divElement.offsetWidth*0.75)+'px';                    var scriptElement = document.createElement('script');                    scriptElement.src = 'https://public.tableau.com/javascripts/api/viz_v1.js';                    vizElement.parentNode.insertBefore(scriptElement, vizElement);                </script>"
   ]
  },
  {
   "cell_type": "code",
   "execution_count": 91,
   "id": "147176d1",
   "metadata": {},
   "outputs": [
    {
     "data": {
      "text/html": [
       "<div class='tableauPlaceholder' id='viz1711801964349' style='position: relative'><noscript><a href='#'><img alt='What are the Production Quantites of Commodities that have High Export Potential? ' src='https:&#47;&#47;public.tableau.com&#47;static&#47;images&#47;Wh&#47;WhataretheProductionQuantitesofCommoditiesthathaveHighExportPotential&#47;Sheet322&#47;1_rss.png' style='border: none' /></a></noscript><object class='tableauViz'  style='display:none;'><param name='host_url' value='https%3A%2F%2Fpublic.tableau.com%2F' /> <param name='embed_code_version' value='3' /> <param name='site_root' value='' /><param name='name' value='WhataretheProductionQuantitesofCommoditiesthathaveHighExportPotential&#47;Sheet322' /><param name='tabs' value='no' /><param name='toolbar' value='yes' /><param name='static_image' value='https:&#47;&#47;public.tableau.com&#47;static&#47;images&#47;Wh&#47;WhataretheProductionQuantitesofCommoditiesthathaveHighExportPotential&#47;Sheet322&#47;1.png' /> <param name='animate_transition' value='yes' /><param name='display_static_image' value='yes' /><param name='display_spinner' value='yes' /><param name='display_overlay' value='yes' /><param name='display_count' value='yes' /><param name='language' value='en-US' /><param name='filter' value='publish=yes' /></object></div>                <script type='text/javascript'>                    var divElement = document.getElementById('viz1711801964349');                    var vizElement = divElement.getElementsByTagName('object')[0];                    vizElement.style.width='100%';vizElement.style.height=(divElement.offsetWidth*0.75)+'px';                    var scriptElement = document.createElement('script');                    scriptElement.src = 'https://public.tableau.com/javascripts/api/viz_v1.js';                    vizElement.parentNode.insertBefore(scriptElement, vizElement);                </script>\n"
      ],
      "text/plain": [
       "<IPython.core.display.HTML object>"
      ]
     },
     "metadata": {},
     "output_type": "display_data"
    }
   ],
   "source": [
    "%%html\n",
    "<div class='tableauPlaceholder' id='viz1711801964349' style='position: relative'><noscript><a href='#'><img alt='What are the Production Quantites of Commodities that have High Export Potential? ' src='https:&#47;&#47;public.tableau.com&#47;static&#47;images&#47;Wh&#47;WhataretheProductionQuantitesofCommoditiesthathaveHighExportPotential&#47;Sheet322&#47;1_rss.png' style='border: none' /></a></noscript><object class='tableauViz'  style='display:none;'><param name='host_url' value='https%3A%2F%2Fpublic.tableau.com%2F' /> <param name='embed_code_version' value='3' /> <param name='site_root' value='' /><param name='name' value='WhataretheProductionQuantitesofCommoditiesthathaveHighExportPotential&#47;Sheet322' /><param name='tabs' value='no' /><param name='toolbar' value='yes' /><param name='static_image' value='https:&#47;&#47;public.tableau.com&#47;static&#47;images&#47;Wh&#47;WhataretheProductionQuantitesofCommoditiesthathaveHighExportPotential&#47;Sheet322&#47;1.png' /> <param name='animate_transition' value='yes' /><param name='display_static_image' value='yes' /><param name='display_spinner' value='yes' /><param name='display_overlay' value='yes' /><param name='display_count' value='yes' /><param name='language' value='en-US' /><param name='filter' value='publish=yes' /></object></div>                <script type='text/javascript'>                    var divElement = document.getElementById('viz1711801964349');                    var vizElement = divElement.getElementsByTagName('object')[0];                    vizElement.style.width='100%';vizElement.style.height=(divElement.offsetWidth*0.75)+'px';                    var scriptElement = document.createElement('script');                    scriptElement.src = 'https://public.tableau.com/javascripts/api/viz_v1.js';                    vizElement.parentNode.insertBefore(scriptElement, vizElement);                </script>"
   ]
  },
  {
   "cell_type": "code",
   "execution_count": 93,
   "id": "7fee56ba",
   "metadata": {},
   "outputs": [
    {
     "data": {
      "text/html": [
       "<div class='tableauPlaceholder' id='viz1711803223512' style='position: relative'><noscript><a href='#'><img alt='What are the Export Potentials of Commodities Across States? ' src='https:&#47;&#47;public.tableau.com&#47;static&#47;images&#47;Wh&#47;WhataretheExportPotentialsofCommoditiesAcrossStates&#47;Sheet34&#47;1_rss.png' style='border: none' /></a></noscript><object class='tableauViz'  style='display:none;'><param name='host_url' value='https%3A%2F%2Fpublic.tableau.com%2F' /> <param name='embed_code_version' value='3' /> <param name='site_root' value='' /><param name='name' value='WhataretheExportPotentialsofCommoditiesAcrossStates&#47;Sheet34' /><param name='tabs' value='no' /><param name='toolbar' value='yes' /><param name='static_image' value='https:&#47;&#47;public.tableau.com&#47;static&#47;images&#47;Wh&#47;WhataretheExportPotentialsofCommoditiesAcrossStates&#47;Sheet34&#47;1.png' /> <param name='animate_transition' value='yes' /><param name='display_static_image' value='yes' /><param name='display_spinner' value='yes' /><param name='display_overlay' value='yes' /><param name='display_count' value='yes' /><param name='language' value='en-US' /><param name='filter' value='publish=yes' /></object></div>                <script type='text/javascript'>                    var divElement = document.getElementById('viz1711803223512');                    var vizElement = divElement.getElementsByTagName('object')[0];                    vizElement.style.width='100%';vizElement.style.height=(divElement.offsetWidth*0.75)+'px';                    var scriptElement = document.createElement('script');                    scriptElement.src = 'https://public.tableau.com/javascripts/api/viz_v1.js';                    vizElement.parentNode.insertBefore(scriptElement, vizElement);                </script>\n"
      ],
      "text/plain": [
       "<IPython.core.display.HTML object>"
      ]
     },
     "metadata": {},
     "output_type": "display_data"
    }
   ],
   "source": [
    "%%html\n",
    "<div class='tableauPlaceholder' id='viz1711803223512' style='position: relative'><noscript><a href='#'><img alt='What are the Export Potentials of Commodities Across States? ' src='https:&#47;&#47;public.tableau.com&#47;static&#47;images&#47;Wh&#47;WhataretheExportPotentialsofCommoditiesAcrossStates&#47;Sheet34&#47;1_rss.png' style='border: none' /></a></noscript><object class='tableauViz'  style='display:none;'><param name='host_url' value='https%3A%2F%2Fpublic.tableau.com%2F' /> <param name='embed_code_version' value='3' /> <param name='site_root' value='' /><param name='name' value='WhataretheExportPotentialsofCommoditiesAcrossStates&#47;Sheet34' /><param name='tabs' value='no' /><param name='toolbar' value='yes' /><param name='static_image' value='https:&#47;&#47;public.tableau.com&#47;static&#47;images&#47;Wh&#47;WhataretheExportPotentialsofCommoditiesAcrossStates&#47;Sheet34&#47;1.png' /> <param name='animate_transition' value='yes' /><param name='display_static_image' value='yes' /><param name='display_spinner' value='yes' /><param name='display_overlay' value='yes' /><param name='display_count' value='yes' /><param name='language' value='en-US' /><param name='filter' value='publish=yes' /></object></div>                <script type='text/javascript'>                    var divElement = document.getElementById('viz1711803223512');                    var vizElement = divElement.getElementsByTagName('object')[0];                    vizElement.style.width='100%';vizElement.style.height=(divElement.offsetWidth*0.75)+'px';                    var scriptElement = document.createElement('script');                    scriptElement.src = 'https://public.tableau.com/javascripts/api/viz_v1.js';                    vizElement.parentNode.insertBefore(scriptElement, vizElement);                </script>"
   ]
  },
  {
   "cell_type": "code",
   "execution_count": 95,
   "id": "cabae2be",
   "metadata": {},
   "outputs": [
    {
     "data": {
      "text/html": [
       "<div class='tableauPlaceholder' id='viz1711804243294' style='position: relative'><noscript><a href='#'><img alt='Compare Export Potential for Commodities Across States and Districts ' src='https:&#47;&#47;public.tableau.com&#47;static&#47;images&#47;Co&#47;CompareExportPotentialforCommoditiesAcrossStatesandDistricts&#47;Dashboard8&#47;1_rss.png' style='border: none' /></a></noscript><object class='tableauViz'  style='display:none;'><param name='host_url' value='https%3A%2F%2Fpublic.tableau.com%2F' /> <param name='embed_code_version' value='3' /> <param name='site_root' value='' /><param name='name' value='CompareExportPotentialforCommoditiesAcrossStatesandDistricts&#47;Dashboard8' /><param name='tabs' value='no' /><param name='toolbar' value='yes' /><param name='static_image' value='https:&#47;&#47;public.tableau.com&#47;static&#47;images&#47;Co&#47;CompareExportPotentialforCommoditiesAcrossStatesandDistricts&#47;Dashboard8&#47;1.png' /> <param name='animate_transition' value='yes' /><param name='display_static_image' value='yes' /><param name='display_spinner' value='yes' /><param name='display_overlay' value='yes' /><param name='display_count' value='yes' /><param name='language' value='en-US' /><param name='filter' value='publish=yes' /></object></div>                <script type='text/javascript'>                    var divElement = document.getElementById('viz1711804243294');                    var vizElement = divElement.getElementsByTagName('object')[0];                    if ( divElement.offsetWidth > 800 ) { vizElement.style.width='100%';vizElement.style.height=(divElement.offsetWidth*0.75)+'px';} else if ( divElement.offsetWidth > 500 ) { vizElement.style.width='100%';vizElement.style.height=(divElement.offsetWidth*0.75)+'px';} else { vizElement.style.width='100%';vizElement.style.height='977px';}                     var scriptElement = document.createElement('script');                    scriptElement.src = 'https://public.tableau.com/javascripts/api/viz_v1.js';                    vizElement.parentNode.insertBefore(scriptElement, vizElement);                </script>\n"
      ],
      "text/plain": [
       "<IPython.core.display.HTML object>"
      ]
     },
     "metadata": {},
     "output_type": "display_data"
    }
   ],
   "source": [
    "%%html\n",
    "<div class='tableauPlaceholder' id='viz1711804243294' style='position: relative'><noscript><a href='#'><img alt='Compare Export Potential for Commodities Across States and Districts ' src='https:&#47;&#47;public.tableau.com&#47;static&#47;images&#47;Co&#47;CompareExportPotentialforCommoditiesAcrossStatesandDistricts&#47;Dashboard8&#47;1_rss.png' style='border: none' /></a></noscript><object class='tableauViz'  style='display:none;'><param name='host_url' value='https%3A%2F%2Fpublic.tableau.com%2F' /> <param name='embed_code_version' value='3' /> <param name='site_root' value='' /><param name='name' value='CompareExportPotentialforCommoditiesAcrossStatesandDistricts&#47;Dashboard8' /><param name='tabs' value='no' /><param name='toolbar' value='yes' /><param name='static_image' value='https:&#47;&#47;public.tableau.com&#47;static&#47;images&#47;Co&#47;CompareExportPotentialforCommoditiesAcrossStatesandDistricts&#47;Dashboard8&#47;1.png' /> <param name='animate_transition' value='yes' /><param name='display_static_image' value='yes' /><param name='display_spinner' value='yes' /><param name='display_overlay' value='yes' /><param name='display_count' value='yes' /><param name='language' value='en-US' /><param name='filter' value='publish=yes' /></object></div>                <script type='text/javascript'>                    var divElement = document.getElementById('viz1711804243294');                    var vizElement = divElement.getElementsByTagName('object')[0];                    if ( divElement.offsetWidth > 800 ) { vizElement.style.width='100%';vizElement.style.height=(divElement.offsetWidth*0.75)+'px';} else if ( divElement.offsetWidth > 500 ) { vizElement.style.width='100%';vizElement.style.height=(divElement.offsetWidth*0.75)+'px';} else { vizElement.style.width='100%';vizElement.style.height='977px';}                     var scriptElement = document.createElement('script');                    scriptElement.src = 'https://public.tableau.com/javascripts/api/viz_v1.js';                    vizElement.parentNode.insertBefore(scriptElement, vizElement);                </script>"
   ]
  },
  {
   "cell_type": "code",
   "execution_count": 97,
   "id": "40d44010",
   "metadata": {},
   "outputs": [
    {
     "data": {
      "text/html": [
       "<div class='tableauPlaceholder' id='viz1711805111785' style='position: relative'><noscript><a href='#'><img alt='Which Certifications of Commodities have High export Potentials?  ' src='https:&#47;&#47;public.tableau.com&#47;static&#47;images&#47;Wh&#47;WhichCertificationsofCommoditieshaveHighexportPotentials&#47;Sheet36&#47;1_rss.png' style='border: none' /></a></noscript><object class='tableauViz'  style='display:none;'><param name='host_url' value='https%3A%2F%2Fpublic.tableau.com%2F' /> <param name='embed_code_version' value='3' /> <param name='site_root' value='' /><param name='name' value='WhichCertificationsofCommoditieshaveHighexportPotentials&#47;Sheet36' /><param name='tabs' value='no' /><param name='toolbar' value='yes' /><param name='static_image' value='https:&#47;&#47;public.tableau.com&#47;static&#47;images&#47;Wh&#47;WhichCertificationsofCommoditieshaveHighexportPotentials&#47;Sheet36&#47;1.png' /> <param name='animate_transition' value='yes' /><param name='display_static_image' value='yes' /><param name='display_spinner' value='yes' /><param name='display_overlay' value='yes' /><param name='display_count' value='yes' /><param name='language' value='en-US' /></object></div>                <script type='text/javascript'>                    var divElement = document.getElementById('viz1711805111785');                    var vizElement = divElement.getElementsByTagName('object')[0];                    vizElement.style.width='100%';vizElement.style.height=(divElement.offsetWidth*0.75)+'px';                    var scriptElement = document.createElement('script');                    scriptElement.src = 'https://public.tableau.com/javascripts/api/viz_v1.js';                    vizElement.parentNode.insertBefore(scriptElement, vizElement);                </script>\n"
      ],
      "text/plain": [
       "<IPython.core.display.HTML object>"
      ]
     },
     "metadata": {},
     "output_type": "display_data"
    }
   ],
   "source": [
    "%%html\n",
    "<div class='tableauPlaceholder' id='viz1711805111785' style='position: relative'><noscript><a href='#'><img alt='Which Certifications of Commodities have High export Potentials?  ' src='https:&#47;&#47;public.tableau.com&#47;static&#47;images&#47;Wh&#47;WhichCertificationsofCommoditieshaveHighexportPotentials&#47;Sheet36&#47;1_rss.png' style='border: none' /></a></noscript><object class='tableauViz'  style='display:none;'><param name='host_url' value='https%3A%2F%2Fpublic.tableau.com%2F' /> <param name='embed_code_version' value='3' /> <param name='site_root' value='' /><param name='name' value='WhichCertificationsofCommoditieshaveHighexportPotentials&#47;Sheet36' /><param name='tabs' value='no' /><param name='toolbar' value='yes' /><param name='static_image' value='https:&#47;&#47;public.tableau.com&#47;static&#47;images&#47;Wh&#47;WhichCertificationsofCommoditieshaveHighexportPotentials&#47;Sheet36&#47;1.png' /> <param name='animate_transition' value='yes' /><param name='display_static_image' value='yes' /><param name='display_spinner' value='yes' /><param name='display_overlay' value='yes' /><param name='display_count' value='yes' /><param name='language' value='en-US' /></object></div>                <script type='text/javascript'>                    var divElement = document.getElementById('viz1711805111785');                    var vizElement = divElement.getElementsByTagName('object')[0];                    vizElement.style.width='100%';vizElement.style.height=(divElement.offsetWidth*0.75)+'px';                    var scriptElement = document.createElement('script');                    scriptElement.src = 'https://public.tableau.com/javascripts/api/viz_v1.js';                    vizElement.parentNode.insertBefore(scriptElement, vizElement);                </script>"
   ]
  },
  {
   "cell_type": "code",
   "execution_count": 99,
   "id": "144bd748",
   "metadata": {},
   "outputs": [
    {
     "data": {
      "text/html": [
       "<div class='tableauPlaceholder' id='viz1711806211384' style='position: relative'><noscript><a href='#'><img alt='Count Of Commodities that are Grade A, B, C, Export and Premium in all States ' src='https:&#47;&#47;public.tableau.com&#47;static&#47;images&#47;Co&#47;CountOfCommoditiesthatareGradeABCExportandPremiuminallStates&#47;Sheet37&#47;1_rss.png' style='border: none' /></a></noscript><object class='tableauViz'  style='display:none;'><param name='host_url' value='https%3A%2F%2Fpublic.tableau.com%2F' /> <param name='embed_code_version' value='3' /> <param name='site_root' value='' /><param name='name' value='CountOfCommoditiesthatareGradeABCExportandPremiuminallStates&#47;Sheet37' /><param name='tabs' value='no' /><param name='toolbar' value='yes' /><param name='static_image' value='https:&#47;&#47;public.tableau.com&#47;static&#47;images&#47;Co&#47;CountOfCommoditiesthatareGradeABCExportandPremiuminallStates&#47;Sheet37&#47;1.png' /> <param name='animate_transition' value='yes' /><param name='display_static_image' value='yes' /><param name='display_spinner' value='yes' /><param name='display_overlay' value='yes' /><param name='display_count' value='yes' /><param name='language' value='en-US' /><param name='filter' value='publish=yes' /></object></div>                <script type='text/javascript'>                    var divElement = document.getElementById('viz1711806211384');                    var vizElement = divElement.getElementsByTagName('object')[0];                    vizElement.style.width='100%';vizElement.style.height=(divElement.offsetWidth*0.75)+'px';                    var scriptElement = document.createElement('script');                    scriptElement.src = 'https://public.tableau.com/javascripts/api/viz_v1.js';                    vizElement.parentNode.insertBefore(scriptElement, vizElement);                </script>\n"
      ],
      "text/plain": [
       "<IPython.core.display.HTML object>"
      ]
     },
     "metadata": {},
     "output_type": "display_data"
    }
   ],
   "source": [
    "%%html\n",
    "<div class='tableauPlaceholder' id='viz1711806211384' style='position: relative'><noscript><a href='#'><img alt='Count Of Commodities that are Grade A, B, C, Export and Premium in all States ' src='https:&#47;&#47;public.tableau.com&#47;static&#47;images&#47;Co&#47;CountOfCommoditiesthatareGradeABCExportandPremiuminallStates&#47;Sheet37&#47;1_rss.png' style='border: none' /></a></noscript><object class='tableauViz'  style='display:none;'><param name='host_url' value='https%3A%2F%2Fpublic.tableau.com%2F' /> <param name='embed_code_version' value='3' /> <param name='site_root' value='' /><param name='name' value='CountOfCommoditiesthatareGradeABCExportandPremiuminallStates&#47;Sheet37' /><param name='tabs' value='no' /><param name='toolbar' value='yes' /><param name='static_image' value='https:&#47;&#47;public.tableau.com&#47;static&#47;images&#47;Co&#47;CountOfCommoditiesthatareGradeABCExportandPremiuminallStates&#47;Sheet37&#47;1.png' /> <param name='animate_transition' value='yes' /><param name='display_static_image' value='yes' /><param name='display_spinner' value='yes' /><param name='display_overlay' value='yes' /><param name='display_count' value='yes' /><param name='language' value='en-US' /><param name='filter' value='publish=yes' /></object></div>                <script type='text/javascript'>                    var divElement = document.getElementById('viz1711806211384');                    var vizElement = divElement.getElementsByTagName('object')[0];                    vizElement.style.width='100%';vizElement.style.height=(divElement.offsetWidth*0.75)+'px';                    var scriptElement = document.createElement('script');                    scriptElement.src = 'https://public.tableau.com/javascripts/api/viz_v1.js';                    vizElement.parentNode.insertBefore(scriptElement, vizElement);                </script>"
   ]
  },
  {
   "cell_type": "code",
   "execution_count": 101,
   "id": "6da6ec85",
   "metadata": {},
   "outputs": [
    {
     "data": {
      "text/html": [
       "<div class='tableauPlaceholder' id='viz1711807355688' style='position: relative'><noscript><a href='#'><img alt='Top 10 Commodities that are of Export Grade ' src='https:&#47;&#47;public.tableau.com&#47;static&#47;images&#47;To&#47;Top10CommoditiesthatareofExportGrade&#47;Sheet38&#47;1_rss.png' style='border: none' /></a></noscript><object class='tableauViz'  style='display:none;'><param name='host_url' value='https%3A%2F%2Fpublic.tableau.com%2F' /> <param name='embed_code_version' value='3' /> <param name='site_root' value='' /><param name='name' value='Top10CommoditiesthatareofExportGrade&#47;Sheet38' /><param name='tabs' value='no' /><param name='toolbar' value='yes' /><param name='static_image' value='https:&#47;&#47;public.tableau.com&#47;static&#47;images&#47;To&#47;Top10CommoditiesthatareofExportGrade&#47;Sheet38&#47;1.png' /> <param name='animate_transition' value='yes' /><param name='display_static_image' value='yes' /><param name='display_spinner' value='yes' /><param name='display_overlay' value='yes' /><param name='display_count' value='yes' /><param name='language' value='en-US' /><param name='filter' value='publish=yes' /></object></div>                <script type='text/javascript'>                    var divElement = document.getElementById('viz1711807355688');                    var vizElement = divElement.getElementsByTagName('object')[0];                    vizElement.style.width='100%';vizElement.style.height=(divElement.offsetWidth*0.75)+'px';                    var scriptElement = document.createElement('script');                    scriptElement.src = 'https://public.tableau.com/javascripts/api/viz_v1.js';                    vizElement.parentNode.insertBefore(scriptElement, vizElement);                </script>\n"
      ],
      "text/plain": [
       "<IPython.core.display.HTML object>"
      ]
     },
     "metadata": {},
     "output_type": "display_data"
    }
   ],
   "source": [
    "%%html\n",
    "<div class='tableauPlaceholder' id='viz1711807355688' style='position: relative'><noscript><a href='#'><img alt='Top 10 Commodities that are of Export Grade ' src='https:&#47;&#47;public.tableau.com&#47;static&#47;images&#47;To&#47;Top10CommoditiesthatareofExportGrade&#47;Sheet38&#47;1_rss.png' style='border: none' /></a></noscript><object class='tableauViz'  style='display:none;'><param name='host_url' value='https%3A%2F%2Fpublic.tableau.com%2F' /> <param name='embed_code_version' value='3' /> <param name='site_root' value='' /><param name='name' value='Top10CommoditiesthatareofExportGrade&#47;Sheet38' /><param name='tabs' value='no' /><param name='toolbar' value='yes' /><param name='static_image' value='https:&#47;&#47;public.tableau.com&#47;static&#47;images&#47;To&#47;Top10CommoditiesthatareofExportGrade&#47;Sheet38&#47;1.png' /> <param name='animate_transition' value='yes' /><param name='display_static_image' value='yes' /><param name='display_spinner' value='yes' /><param name='display_overlay' value='yes' /><param name='display_count' value='yes' /><param name='language' value='en-US' /><param name='filter' value='publish=yes' /></object></div>                <script type='text/javascript'>                    var divElement = document.getElementById('viz1711807355688');                    var vizElement = divElement.getElementsByTagName('object')[0];                    vizElement.style.width='100%';vizElement.style.height=(divElement.offsetWidth*0.75)+'px';                    var scriptElement = document.createElement('script');                    scriptElement.src = 'https://public.tableau.com/javascripts/api/viz_v1.js';                    vizElement.parentNode.insertBefore(scriptElement, vizElement);                </script>"
   ]
  },
  {
   "cell_type": "code",
   "execution_count": 103,
   "id": "326f8bbf",
   "metadata": {},
   "outputs": [
    {
     "data": {
      "text/html": [
       "<div class='tableauPlaceholder' id='viz1711807432656' style='position: relative'><noscript><a href='#'><img alt='Top 10 Commodities that are of Premium Grade ' src='https:&#47;&#47;public.tableau.com&#47;static&#47;images&#47;To&#47;Top10CommoditiesthatareofPremiumGrade&#47;Sheet40&#47;1_rss.png' style='border: none' /></a></noscript><object class='tableauViz'  style='display:none;'><param name='host_url' value='https%3A%2F%2Fpublic.tableau.com%2F' /> <param name='embed_code_version' value='3' /> <param name='site_root' value='' /><param name='name' value='Top10CommoditiesthatareofPremiumGrade&#47;Sheet40' /><param name='tabs' value='no' /><param name='toolbar' value='yes' /><param name='static_image' value='https:&#47;&#47;public.tableau.com&#47;static&#47;images&#47;To&#47;Top10CommoditiesthatareofPremiumGrade&#47;Sheet40&#47;1.png' /> <param name='animate_transition' value='yes' /><param name='display_static_image' value='yes' /><param name='display_spinner' value='yes' /><param name='display_overlay' value='yes' /><param name='display_count' value='yes' /><param name='language' value='en-US' /><param name='filter' value='publish=yes' /></object></div>                <script type='text/javascript'>                    var divElement = document.getElementById('viz1711807432656');                    var vizElement = divElement.getElementsByTagName('object')[0];                    vizElement.style.width='100%';vizElement.style.height=(divElement.offsetWidth*0.75)+'px';                    var scriptElement = document.createElement('script');                    scriptElement.src = 'https://public.tableau.com/javascripts/api/viz_v1.js';                    vizElement.parentNode.insertBefore(scriptElement, vizElement);                </script>\n"
      ],
      "text/plain": [
       "<IPython.core.display.HTML object>"
      ]
     },
     "metadata": {},
     "output_type": "display_data"
    }
   ],
   "source": [
    "%%html\n",
    "<div class='tableauPlaceholder' id='viz1711807432656' style='position: relative'><noscript><a href='#'><img alt='Top 10 Commodities that are of Premium Grade ' src='https:&#47;&#47;public.tableau.com&#47;static&#47;images&#47;To&#47;Top10CommoditiesthatareofPremiumGrade&#47;Sheet40&#47;1_rss.png' style='border: none' /></a></noscript><object class='tableauViz'  style='display:none;'><param name='host_url' value='https%3A%2F%2Fpublic.tableau.com%2F' /> <param name='embed_code_version' value='3' /> <param name='site_root' value='' /><param name='name' value='Top10CommoditiesthatareofPremiumGrade&#47;Sheet40' /><param name='tabs' value='no' /><param name='toolbar' value='yes' /><param name='static_image' value='https:&#47;&#47;public.tableau.com&#47;static&#47;images&#47;To&#47;Top10CommoditiesthatareofPremiumGrade&#47;Sheet40&#47;1.png' /> <param name='animate_transition' value='yes' /><param name='display_static_image' value='yes' /><param name='display_spinner' value='yes' /><param name='display_overlay' value='yes' /><param name='display_count' value='yes' /><param name='language' value='en-US' /><param name='filter' value='publish=yes' /></object></div>                <script type='text/javascript'>                    var divElement = document.getElementById('viz1711807432656');                    var vizElement = divElement.getElementsByTagName('object')[0];                    vizElement.style.width='100%';vizElement.style.height=(divElement.offsetWidth*0.75)+'px';                    var scriptElement = document.createElement('script');                    scriptElement.src = 'https://public.tableau.com/javascripts/api/viz_v1.js';                    vizElement.parentNode.insertBefore(scriptElement, vizElement);                </script>"
   ]
  },
  {
   "cell_type": "code",
   "execution_count": 105,
   "id": "eeff405f",
   "metadata": {},
   "outputs": [
    {
     "data": {
      "text/html": [
       "<div class='tableauPlaceholder' id='viz1711807537436' style='position: relative'><noscript><a href='#'><img alt='Top 10 Commodities that are of Grade A,B and C ' src='https:&#47;&#47;public.tableau.com&#47;static&#47;images&#47;To&#47;Top10CommoditiesthatareofGradeABandC&#47;Sheet41&#47;1_rss.png' style='border: none' /></a></noscript><object class='tableauViz'  style='display:none;'><param name='host_url' value='https%3A%2F%2Fpublic.tableau.com%2F' /> <param name='embed_code_version' value='3' /> <param name='site_root' value='' /><param name='name' value='Top10CommoditiesthatareofGradeABandC&#47;Sheet41' /><param name='tabs' value='no' /><param name='toolbar' value='yes' /><param name='static_image' value='https:&#47;&#47;public.tableau.com&#47;static&#47;images&#47;To&#47;Top10CommoditiesthatareofGradeABandC&#47;Sheet41&#47;1.png' /> <param name='animate_transition' value='yes' /><param name='display_static_image' value='yes' /><param name='display_spinner' value='yes' /><param name='display_overlay' value='yes' /><param name='display_count' value='yes' /><param name='language' value='en-US' /><param name='filter' value='publish=yes' /></object></div>                <script type='text/javascript'>                    var divElement = document.getElementById('viz1711807537436');                    var vizElement = divElement.getElementsByTagName('object')[0];                    vizElement.style.width='100%';vizElement.style.height=(divElement.offsetWidth*0.75)+'px';                    var scriptElement = document.createElement('script');                    scriptElement.src = 'https://public.tableau.com/javascripts/api/viz_v1.js';                    vizElement.parentNode.insertBefore(scriptElement, vizElement);                </script>\n"
      ],
      "text/plain": [
       "<IPython.core.display.HTML object>"
      ]
     },
     "metadata": {},
     "output_type": "display_data"
    }
   ],
   "source": [
    "%%html\n",
    "<div class='tableauPlaceholder' id='viz1711807537436' style='position: relative'><noscript><a href='#'><img alt='Top 10 Commodities that are of Grade A,B and C ' src='https:&#47;&#47;public.tableau.com&#47;static&#47;images&#47;To&#47;Top10CommoditiesthatareofGradeABandC&#47;Sheet41&#47;1_rss.png' style='border: none' /></a></noscript><object class='tableauViz'  style='display:none;'><param name='host_url' value='https%3A%2F%2Fpublic.tableau.com%2F' /> <param name='embed_code_version' value='3' /> <param name='site_root' value='' /><param name='name' value='Top10CommoditiesthatareofGradeABandC&#47;Sheet41' /><param name='tabs' value='no' /><param name='toolbar' value='yes' /><param name='static_image' value='https:&#47;&#47;public.tableau.com&#47;static&#47;images&#47;To&#47;Top10CommoditiesthatareofGradeABandC&#47;Sheet41&#47;1.png' /> <param name='animate_transition' value='yes' /><param name='display_static_image' value='yes' /><param name='display_spinner' value='yes' /><param name='display_overlay' value='yes' /><param name='display_count' value='yes' /><param name='language' value='en-US' /><param name='filter' value='publish=yes' /></object></div>                <script type='text/javascript'>                    var divElement = document.getElementById('viz1711807537436');                    var vizElement = divElement.getElementsByTagName('object')[0];                    vizElement.style.width='100%';vizElement.style.height=(divElement.offsetWidth*0.75)+'px';                    var scriptElement = document.createElement('script');                    scriptElement.src = 'https://public.tableau.com/javascripts/api/viz_v1.js';                    vizElement.parentNode.insertBefore(scriptElement, vizElement);                </script>"
   ]
  },
  {
   "cell_type": "code",
   "execution_count": 107,
   "id": "1f403eb4",
   "metadata": {},
   "outputs": [
    {
     "data": {
      "text/html": [
       "<div class='tableauPlaceholder' id='viz1711808224018' style='position: relative'><noscript><a href='#'><img alt='Export Potential of all Quality Grades ' src='https:&#47;&#47;public.tableau.com&#47;static&#47;images&#47;Ex&#47;ExportPotentialofallQualityGrades&#47;Sheet42_1&#47;1_rss.png' style='border: none' /></a></noscript><object class='tableauViz'  style='display:none;'><param name='host_url' value='https%3A%2F%2Fpublic.tableau.com%2F' /> <param name='embed_code_version' value='3' /> <param name='site_root' value='' /><param name='name' value='ExportPotentialofallQualityGrades&#47;Sheet42_1' /><param name='tabs' value='no' /><param name='toolbar' value='yes' /><param name='static_image' value='https:&#47;&#47;public.tableau.com&#47;static&#47;images&#47;Ex&#47;ExportPotentialofallQualityGrades&#47;Sheet42_1&#47;1.png' /> <param name='animate_transition' value='yes' /><param name='display_static_image' value='yes' /><param name='display_spinner' value='yes' /><param name='display_overlay' value='yes' /><param name='display_count' value='yes' /><param name='language' value='en-US' /><param name='filter' value='publish=yes' /></object></div>                <script type='text/javascript'>                    var divElement = document.getElementById('viz1711808224018');                    var vizElement = divElement.getElementsByTagName('object')[0];                    vizElement.style.width='100%';vizElement.style.height=(divElement.offsetWidth*0.75)+'px';                    var scriptElement = document.createElement('script');                    scriptElement.src = 'https://public.tableau.com/javascripts/api/viz_v1.js';                    vizElement.parentNode.insertBefore(scriptElement, vizElement);                </script>\n"
      ],
      "text/plain": [
       "<IPython.core.display.HTML object>"
      ]
     },
     "metadata": {},
     "output_type": "display_data"
    }
   ],
   "source": [
    "%%html\n",
    "<div class='tableauPlaceholder' id='viz1711808224018' style='position: relative'><noscript><a href='#'><img alt='Export Potential of all Quality Grades ' src='https:&#47;&#47;public.tableau.com&#47;static&#47;images&#47;Ex&#47;ExportPotentialofallQualityGrades&#47;Sheet42_1&#47;1_rss.png' style='border: none' /></a></noscript><object class='tableauViz'  style='display:none;'><param name='host_url' value='https%3A%2F%2Fpublic.tableau.com%2F' /> <param name='embed_code_version' value='3' /> <param name='site_root' value='' /><param name='name' value='ExportPotentialofallQualityGrades&#47;Sheet42_1' /><param name='tabs' value='no' /><param name='toolbar' value='yes' /><param name='static_image' value='https:&#47;&#47;public.tableau.com&#47;static&#47;images&#47;Ex&#47;ExportPotentialofallQualityGrades&#47;Sheet42_1&#47;1.png' /> <param name='animate_transition' value='yes' /><param name='display_static_image' value='yes' /><param name='display_spinner' value='yes' /><param name='display_overlay' value='yes' /><param name='display_count' value='yes' /><param name='language' value='en-US' /><param name='filter' value='publish=yes' /></object></div>                <script type='text/javascript'>                    var divElement = document.getElementById('viz1711808224018');                    var vizElement = divElement.getElementsByTagName('object')[0];                    vizElement.style.width='100%';vizElement.style.height=(divElement.offsetWidth*0.75)+'px';                    var scriptElement = document.createElement('script');                    scriptElement.src = 'https://public.tableau.com/javascripts/api/viz_v1.js';                    vizElement.parentNode.insertBefore(scriptElement, vizElement);                </script>"
   ]
  },
  {
   "cell_type": "code",
   "execution_count": 108,
   "id": "d085434c",
   "metadata": {},
   "outputs": [
    {
     "data": {
      "text/html": [
       "<div class='tableauPlaceholder' id='viz1711808612108' style='position: relative'><noscript><a href='#'><img alt='Production Quantities of Qualtiy Grades Across States ' src='https:&#47;&#47;public.tableau.com&#47;static&#47;images&#47;Pr&#47;ProductionQuantitiesofQualtiyGradesAcrossStates&#47;Sheet43_1&#47;1_rss.png' style='border: none' /></a></noscript><object class='tableauViz'  style='display:none;'><param name='host_url' value='https%3A%2F%2Fpublic.tableau.com%2F' /> <param name='embed_code_version' value='3' /> <param name='site_root' value='' /><param name='name' value='ProductionQuantitiesofQualtiyGradesAcrossStates&#47;Sheet43_1' /><param name='tabs' value='no' /><param name='toolbar' value='yes' /><param name='static_image' value='https:&#47;&#47;public.tableau.com&#47;static&#47;images&#47;Pr&#47;ProductionQuantitiesofQualtiyGradesAcrossStates&#47;Sheet43_1&#47;1.png' /> <param name='animate_transition' value='yes' /><param name='display_static_image' value='yes' /><param name='display_spinner' value='yes' /><param name='display_overlay' value='yes' /><param name='display_count' value='yes' /><param name='language' value='en-US' /><param name='filter' value='publish=yes' /></object></div>                <script type='text/javascript'>                    var divElement = document.getElementById('viz1711808612108');                    var vizElement = divElement.getElementsByTagName('object')[0];                    vizElement.style.width='100%';vizElement.style.height=(divElement.offsetWidth*0.75)+'px';                    var scriptElement = document.createElement('script');                    scriptElement.src = 'https://public.tableau.com/javascripts/api/viz_v1.js';                    vizElement.parentNode.insertBefore(scriptElement, vizElement);                </script>\n"
      ],
      "text/plain": [
       "<IPython.core.display.HTML object>"
      ]
     },
     "metadata": {},
     "output_type": "display_data"
    }
   ],
   "source": [
    "%%html\n",
    "<div class='tableauPlaceholder' id='viz1711808612108' style='position: relative'><noscript><a href='#'><img alt='Production Quantities of Qualtiy Grades Across States ' src='https:&#47;&#47;public.tableau.com&#47;static&#47;images&#47;Pr&#47;ProductionQuantitiesofQualtiyGradesAcrossStates&#47;Sheet43_1&#47;1_rss.png' style='border: none' /></a></noscript><object class='tableauViz'  style='display:none;'><param name='host_url' value='https%3A%2F%2Fpublic.tableau.com%2F' /> <param name='embed_code_version' value='3' /> <param name='site_root' value='' /><param name='name' value='ProductionQuantitiesofQualtiyGradesAcrossStates&#47;Sheet43_1' /><param name='tabs' value='no' /><param name='toolbar' value='yes' /><param name='static_image' value='https:&#47;&#47;public.tableau.com&#47;static&#47;images&#47;Pr&#47;ProductionQuantitiesofQualtiyGradesAcrossStates&#47;Sheet43_1&#47;1.png' /> <param name='animate_transition' value='yes' /><param name='display_static_image' value='yes' /><param name='display_spinner' value='yes' /><param name='display_overlay' value='yes' /><param name='display_count' value='yes' /><param name='language' value='en-US' /><param name='filter' value='publish=yes' /></object></div>                <script type='text/javascript'>                    var divElement = document.getElementById('viz1711808612108');                    var vizElement = divElement.getElementsByTagName('object')[0];                    vizElement.style.width='100%';vizElement.style.height=(divElement.offsetWidth*0.75)+'px';                    var scriptElement = document.createElement('script');                    scriptElement.src = 'https://public.tableau.com/javascripts/api/viz_v1.js';                    vizElement.parentNode.insertBefore(scriptElement, vizElement);                </script>"
   ]
  },
  {
   "cell_type": "code",
   "execution_count": 111,
   "id": "e32708a9",
   "metadata": {},
   "outputs": [
    {
     "data": {
      "text/html": [
       "<div class='tableauPlaceholder' id='viz1711809869770' style='position: relative'><noscript><a href='#'><img alt='Prices of Commodities of Export Quality ' src='https:&#47;&#47;public.tableau.com&#47;static&#47;images&#47;Pr&#47;PricesofCommoditiesofExportQuality&#47;Sheet44_1&#47;1_rss.png' style='border: none' /></a></noscript><object class='tableauViz'  style='display:none;'><param name='host_url' value='https%3A%2F%2Fpublic.tableau.com%2F' /> <param name='embed_code_version' value='3' /> <param name='site_root' value='' /><param name='name' value='PricesofCommoditiesofExportQuality&#47;Sheet44_1' /><param name='tabs' value='no' /><param name='toolbar' value='yes' /><param name='static_image' value='https:&#47;&#47;public.tableau.com&#47;static&#47;images&#47;Pr&#47;PricesofCommoditiesofExportQuality&#47;Sheet44_1&#47;1.png' /> <param name='animate_transition' value='yes' /><param name='display_static_image' value='yes' /><param name='display_spinner' value='yes' /><param name='display_overlay' value='yes' /><param name='display_count' value='yes' /><param name='language' value='en-US' /><param name='filter' value='publish=yes' /></object></div>                <script type='text/javascript'>                    var divElement = document.getElementById('viz1711809869770');                    var vizElement = divElement.getElementsByTagName('object')[0];                    vizElement.style.width='100%';vizElement.style.height=(divElement.offsetWidth*0.75)+'px';                    var scriptElement = document.createElement('script');                    scriptElement.src = 'https://public.tableau.com/javascripts/api/viz_v1.js';                    vizElement.parentNode.insertBefore(scriptElement, vizElement);                </script>\n"
      ],
      "text/plain": [
       "<IPython.core.display.HTML object>"
      ]
     },
     "metadata": {},
     "output_type": "display_data"
    }
   ],
   "source": [
    "%%html\n",
    "<div class='tableauPlaceholder' id='viz1711809869770' style='position: relative'><noscript><a href='#'><img alt='Prices of Commodities of Export Quality ' src='https:&#47;&#47;public.tableau.com&#47;static&#47;images&#47;Pr&#47;PricesofCommoditiesofExportQuality&#47;Sheet44_1&#47;1_rss.png' style='border: none' /></a></noscript><object class='tableauViz'  style='display:none;'><param name='host_url' value='https%3A%2F%2Fpublic.tableau.com%2F' /> <param name='embed_code_version' value='3' /> <param name='site_root' value='' /><param name='name' value='PricesofCommoditiesofExportQuality&#47;Sheet44_1' /><param name='tabs' value='no' /><param name='toolbar' value='yes' /><param name='static_image' value='https:&#47;&#47;public.tableau.com&#47;static&#47;images&#47;Pr&#47;PricesofCommoditiesofExportQuality&#47;Sheet44_1&#47;1.png' /> <param name='animate_transition' value='yes' /><param name='display_static_image' value='yes' /><param name='display_spinner' value='yes' /><param name='display_overlay' value='yes' /><param name='display_count' value='yes' /><param name='language' value='en-US' /><param name='filter' value='publish=yes' /></object></div>                <script type='text/javascript'>                    var divElement = document.getElementById('viz1711809869770');                    var vizElement = divElement.getElementsByTagName('object')[0];                    vizElement.style.width='100%';vizElement.style.height=(divElement.offsetWidth*0.75)+'px';                    var scriptElement = document.createElement('script');                    scriptElement.src = 'https://public.tableau.com/javascripts/api/viz_v1.js';                    vizElement.parentNode.insertBefore(scriptElement, vizElement);                </script>"
   ]
  },
  {
   "cell_type": "code",
   "execution_count": 113,
   "id": "8bdb7bfc",
   "metadata": {},
   "outputs": [
    {
     "data": {
      "text/html": [
       "<div class='tableauPlaceholder' id='viz1711809958468' style='position: relative'><noscript><a href='#'><img alt='Prices of Commodities of Grade A Quality ' src='https:&#47;&#47;public.tableau.com&#47;static&#47;images&#47;Pr&#47;PricesofCommoditiesofGradeAQuality&#47;Sheet442&#47;1_rss.png' style='border: none' /></a></noscript><object class='tableauViz'  style='display:none;'><param name='host_url' value='https%3A%2F%2Fpublic.tableau.com%2F' /> <param name='embed_code_version' value='3' /> <param name='site_root' value='' /><param name='name' value='PricesofCommoditiesofGradeAQuality&#47;Sheet442' /><param name='tabs' value='no' /><param name='toolbar' value='yes' /><param name='static_image' value='https:&#47;&#47;public.tableau.com&#47;static&#47;images&#47;Pr&#47;PricesofCommoditiesofGradeAQuality&#47;Sheet442&#47;1.png' /> <param name='animate_transition' value='yes' /><param name='display_static_image' value='yes' /><param name='display_spinner' value='yes' /><param name='display_overlay' value='yes' /><param name='display_count' value='yes' /><param name='language' value='en-US' /><param name='filter' value='publish=yes' /></object></div>                <script type='text/javascript'>                    var divElement = document.getElementById('viz1711809958468');                    var vizElement = divElement.getElementsByTagName('object')[0];                    vizElement.style.width='100%';vizElement.style.height=(divElement.offsetWidth*0.75)+'px';                    var scriptElement = document.createElement('script');                    scriptElement.src = 'https://public.tableau.com/javascripts/api/viz_v1.js';                    vizElement.parentNode.insertBefore(scriptElement, vizElement);                </script>\n"
      ],
      "text/plain": [
       "<IPython.core.display.HTML object>"
      ]
     },
     "metadata": {},
     "output_type": "display_data"
    }
   ],
   "source": [
    "%%html\n",
    "<div class='tableauPlaceholder' id='viz1711809958468' style='position: relative'><noscript><a href='#'><img alt='Prices of Commodities of Grade A Quality ' src='https:&#47;&#47;public.tableau.com&#47;static&#47;images&#47;Pr&#47;PricesofCommoditiesofGradeAQuality&#47;Sheet442&#47;1_rss.png' style='border: none' /></a></noscript><object class='tableauViz'  style='display:none;'><param name='host_url' value='https%3A%2F%2Fpublic.tableau.com%2F' /> <param name='embed_code_version' value='3' /> <param name='site_root' value='' /><param name='name' value='PricesofCommoditiesofGradeAQuality&#47;Sheet442' /><param name='tabs' value='no' /><param name='toolbar' value='yes' /><param name='static_image' value='https:&#47;&#47;public.tableau.com&#47;static&#47;images&#47;Pr&#47;PricesofCommoditiesofGradeAQuality&#47;Sheet442&#47;1.png' /> <param name='animate_transition' value='yes' /><param name='display_static_image' value='yes' /><param name='display_spinner' value='yes' /><param name='display_overlay' value='yes' /><param name='display_count' value='yes' /><param name='language' value='en-US' /><param name='filter' value='publish=yes' /></object></div>                <script type='text/javascript'>                    var divElement = document.getElementById('viz1711809958468');                    var vizElement = divElement.getElementsByTagName('object')[0];                    vizElement.style.width='100%';vizElement.style.height=(divElement.offsetWidth*0.75)+'px';                    var scriptElement = document.createElement('script');                    scriptElement.src = 'https://public.tableau.com/javascripts/api/viz_v1.js';                    vizElement.parentNode.insertBefore(scriptElement, vizElement);                </script>"
   ]
  }
 ],
 "metadata": {
  "kernelspec": {
   "display_name": "Python 3 (ipykernel)",
   "language": "python",
   "name": "python3"
  },
  "language_info": {
   "codemirror_mode": {
    "name": "ipython",
    "version": 3
   },
   "file_extension": ".py",
   "mimetype": "text/x-python",
   "name": "python",
   "nbconvert_exporter": "python",
   "pygments_lexer": "ipython3",
   "version": "3.12.7"
  }
 },
 "nbformat": 4,
 "nbformat_minor": 5
}
